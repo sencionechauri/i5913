{
  "cells": [
    {
      "cell_type": "markdown",
      "source": [
        "# <center>Cálculo de Predicados</center>\n",
        "## <center>Parte 3</center>"
      ],
      "metadata": {
        "nteract": {
          "transient": {
            "deleting": false
          }
        }
      }
    },
    {
      "cell_type": "code",
      "source": [
        "%%html\n",
        "<center><iframe src=\"https://drive.google.com/file/d/1B-sdS3sQOf4OKgmKEWPWNsXIEY8NfaM9/preview\" width=\"320\" height=\"240\"></iframe></center>"
      ],
      "outputs": [
        {
          "output_type": "display_data",
          "data": {
            "text/plain": "<IPython.core.display.HTML object>",
            "text/html": "<center><iframe src=\"https://drive.google.com/file/d/1B-sdS3sQOf4OKgmKEWPWNsXIEY8NfaM9/preview\" width=\"320\" height=\"240\"></iframe></center>\n"
          },
          "metadata": {}
        }
      ],
      "execution_count": 1,
      "metadata": {
        "collapsed": true,
        "jupyter": {
          "source_hidden": false,
          "outputs_hidden": false
        },
        "nteract": {
          "transient": {
            "deleting": false
          }
        },
        "execution": {
          "iopub.status.busy": "2020-10-21T12:45:19.600Z",
          "iopub.execute_input": "2020-10-21T12:45:19.660Z",
          "iopub.status.idle": "2020-10-21T12:45:20.803Z",
          "shell.execute_reply": "2020-10-21T12:45:23.086Z"
        }
      }
    },
    {
      "cell_type": "markdown",
      "source": [
        "## Validación\n",
        "\n",
        "Una FBF que es verdadera para todas las interpretaciones posibles se dice que es Válida.\n",
        "\n",
        "Si una FBF contiene cuantificadores, no siempre se puede establecer si es válida."
      ],
      "metadata": {
        "nteract": {
          "transient": {
            "deleting": false
          }
        }
      }
    },
    {
      "cell_type": "markdown",
      "source": [
        "## Resolución\n",
        "\n",
        "La resolución es una importante herramienta de inferencia que se puede aplicar a FBFs llamdas cláusulas que se presentan como conjunciones de disyunciones.\n",
        "\n",
        "Si las FBFs se encuentran como conjunciones de disyunciones se dice que están en formato **CNF**."
      ],
      "metadata": {
        "nteract": {
          "transient": {
            "deleting": false
          }
        }
      }
    },
    {
      "cell_type": "markdown",
      "source": [
        "## Algoritmo para convertir axiomas a CNF\n",
        "\n",
        "1. Eliminar implicaciones.\n",
        "2. Aplicar negaciones a los fórmulas atómicas.\n",
        "3. Eliminar cuantificadores existenciales.\n",
        "4. Renombrar variables si es necesario.\n",
        "5. Mover cuantificadores universales a la izquierda.\n",
        "6. Distribuir disyunciones sobre conjunciones.\n",
        "7. Eliminar conjunciones.\n",
        "8. Renombrar variables si es necesario.\n",
        "9. Eliminar los cuantificadores universales."
      ],
      "metadata": {
        "nteract": {
          "transient": {
            "deleting": false
          }
        }
      }
    },
    {
      "cell_type": "markdown",
      "source": [
        "### Ejemplo\n",
        "\n",
        "Covertir a formato CNF las siguientes frases.\n",
        "\n",
        "1. Los ladrillos están sobre algo que no es una pirámide.\n",
        "2. No hay algo sobre lo que esté un ladrillo y que a su vez esté sobre el ladrillo.\n",
        "3. No hay nada que no sea un ladrillo y que también sea la misma cosa que el ladrillo."
      ],
      "metadata": {
        "nteract": {
          "transient": {
            "deleting": false
          }
        }
      }
    },
    {
      "cell_type": "markdown",
      "source": [
        "Primero debemos convertir las expresiones en lenguaje natural a Fórmulas Bien Formadas.\n",
        "\n",
        "$$\\forall X \\text{ ladrillo} (X) \\Rightarrow ((\\exists Y \\text{ sobre}(X,Y) \\land \\lnot \\text{pirámide}(Y)) \\land (\\lnot\\exists Y \\text{ sobre}(X,Y) \\land \\text{sobre}(X,Y)) \\land (\\forall Y \\lnot \\text{ladrillo}(Y) \\Rightarrow \\lnot \\text{igual}(X,Y)))$$"
      ],
      "metadata": {
        "nteract": {
          "transient": {
            "deleting": false
          }
        }
      }
    },
    {
      "cell_type": "markdown",
      "source": [
        "Una vez que tenemos la expresión como fórmulas bien formadas, podemos realizar el algoritmo de los nueve pasos para convertir a forma clausal o CNF.\n",
        "\n",
        "Comenzaremos eliminando implicaciones para lo cual utilizaremos una implicación material por cada vez que encontremos el símbolo $\\Rightarrow$\n",
        "\n",
        "Implicación Material:\n",
        "\n",
        "$(p \\rightarrow q) \\equiv (\\lnot p \\lor q)$"
      ],
      "metadata": {
        "nteract": {
          "transient": {
            "deleting": false
          }
        }
      }
    },
    {
      "cell_type": "markdown",
      "source": [
        "### 1. Eliminar implicaciones\n",
        "\n",
        "Antes:\n",
        "\n",
        "$$\n",
        "\\begin{align}\n",
        "\\forall X \\text{ ladrillo} (X) \\Rightarrow & ((\\exists Y \\text{ sobre}(X,Y) \\land \\lnot \\text{pirámide}(Y)) \\\\\n",
        "\\land & (\\lnot\\exists Y \\text{ sobre}(X,Y) \\land \\text{sobre}(Y,X)) \\\\\n",
        "\\land & (\\forall Y \\lnot \\text{ladrillo}(Y) \\Rightarrow \\lnot \\text{igual}(X,Y)))\n",
        "\\end{align}\n",
        "$$\n",
        "\n",
        "Después:\n",
        "\n",
        "$$\n",
        "\\begin{align}\n",
        "\\forall X \\lnot\\text{ ladrillo} (X) \\lor & ((\\exists Y \\text{ sobre}(X,Y) \\land \\lnot \\text{pirámide}(Y)) \\\\\n",
        "\\land & (\\lnot\\exists Y \\text{ sobre}(X,Y) \\land \\text{sobre}(Y,X)) \\\\\n",
        "\\land & (\\forall Y \\lnot\\lnot \\text{ladrillo}(Y) \\lor \\lnot \\text{igual}(X,Y)))\n",
        "\\end{align}\n",
        "$$"
      ],
      "metadata": {
        "nteract": {
          "transient": {
            "deleting": false
          }
        }
      }
    },
    {
      "cell_type": "markdown",
      "source": [
        "### 2. Aplicar negaciones a las fórmulas atómicas\n",
        "\n",
        "Para este paso aplicaremos todas las negaciones correspondientes, para ellos si un símbolo $\\exists$ está negado cambiará a $\\forall$ y viceversa. Con los símbolos $\\land$ y $\\lor$ sucederá lo mismo y cambiarán por el contrario, es decir $\\land$ cambia a $\\lor$ y viceversa.\n",
        "\n",
        "Antes:\n",
        "\n",
        "$$\n",
        "\\begin{align}\n",
        "\\forall X \\lnot\\text{ ladrillo} (X) \\lor & ((\\exists Y \\text{ sobre}(X,Y) \\land \\lnot \\text{pirámide}(Y)) \\\\\n",
        "\\land & (\\lnot\\exists Y \\text{ sobre}(X,Y) \\land \\text{sobre}(Y,X)) \\\\\n",
        "\\land & (\\forall Y \\lnot\\lnot \\text{ladrillo}(Y) \\lor \\lnot \\text{igual}(X,Y)))\n",
        "\\end{align}\n",
        "$$\n",
        "\n",
        "Después:\n",
        "\n",
        "$$\n",
        "\\begin{align}\n",
        "\\forall X \\lnot\\text{ ladrillo} (X) \\lor & ((\\exists Y \\text{ sobre}(X,Y) \\land \\lnot \\text{pirámide}(Y)) \\\\\n",
        "\\land & (\\forall Y \\lnot \\text{ sobre}(X,Y) \\lor \\lnot \\text{sobre}(Y,X)) \\\\\n",
        "\\land & (\\forall Y \\text{ ladrillo}(Y) \\lor \\lnot \\text{igual}(X,Y)))\n",
        "\\end{align}\n",
        "$$"
      ],
      "metadata": {
        "nteract": {
          "transient": {
            "deleting": false
          }
        }
      }
    },
    {
      "cell_type": "markdown",
      "source": [
        "### 3. Eliminar cuantificadores existenciales: Skolemnizar\n",
        "\n",
        "Como resultado se eliminarán todos los símbolos $\\exists$ y en lugar de las variables asociadas a esos símbolos habrá una función de Skolem con la forma $\\text{S}i(\\text{Variable_ligada})$. En donde la variable ligada es la indicada por el cuantificador universal $\\forall$ que contenía al existencial.\n",
        "\n",
        "Antes:\n",
        "\n",
        "$$\n",
        "\\begin{align}\n",
        "\\forall X \\lnot\\text{ ladrillo} (X) \\lor & ((\\exists Y \\text{ sobre}(X,Y) \\land \\lnot \\text{pirámide}(Y)) \\\\\n",
        "\\land & (\\forall Y \\lnot \\text{ sobre}(X,Y) \\lor \\lnot \\text{sobre}(Y,X)) \\\\\n",
        "\\land & (\\forall Y \\text{ ladrillo}(Y) \\lor \\lnot \\text{igual}(X,Y)))\n",
        "\\end{align}\n",
        "$$\n",
        "\n",
        "Después:\n",
        "\n",
        "$$\n",
        "\\begin{align}\n",
        "\\forall X \\lnot\\text{ ladrillo} (X) \\lor & ((\\text{ sobre}(X,S1(X)) \\land \\lnot \\text{pirámide}(S1(X))) \\\\\n",
        "\\land & (\\forall Y \\lnot \\text{ sobre}(X,Y) \\lor \\lnot \\text{sobre}(Y,X)) \\\\\n",
        "\\land & (\\forall Y \\text{ ladrillo}(Y) \\lor \\lnot \\text{igual}(X,Y)))\n",
        "\\end{align}\n",
        "$$"
      ],
      "metadata": {
        "nteract": {
          "transient": {
            "deleting": false
          }
        }
      }
    },
    {
      "cell_type": "markdown",
      "source": [
        "### 4. Renombrar variables si es necesario\n",
        "\n",
        "En este paso cambiaremos las variables de forma tal que para cada cuantificador existencial $\\forall$ haya variables únicas.\n",
        "\n",
        "Antes:\n",
        "\n",
        "$$\n",
        "\\begin{align}\n",
        "\\forall X \\lnot\\text{ ladrillo} (X) \\lor & ((\\text{ sobre}(X,S1(X)) \\land \\lnot \\text{pirámide}(S1(X))) \\\\\n",
        "\\land & (\\forall Y \\lnot \\text{ sobre}(X,Y) \\lor \\lnot \\text{sobre}(Y,X)) \\\\\n",
        "\\land & (\\forall Y \\text{ ladrillo}(Y) \\lor \\lnot \\text{igual}(X,Y)))\n",
        "\\end{align}\n",
        "$$\n",
        "\n",
        "Después:\n",
        "\n",
        "$$\n",
        "\\begin{align}\n",
        "\\forall X \\lnot\\text{ ladrillo} (X) \\lor & ((\\text{ sobre}(X,S1(X)) \\land \\lnot \\text{pirámide}(S1(X))) \\\\\n",
        "\\land & (\\forall Y \\lnot \\text{ sobre}(X,Y) \\lor \\lnot \\text{sobre}(Y,X)) \\\\\n",
        "\\land & (\\forall Z \\text{ ladrillo}(Z) \\lor \\lnot \\text{igual}(X,Z)))\n",
        "\\end{align}\n",
        "$$"
      ],
      "metadata": {
        "nteract": {
          "transient": {
            "deleting": false
          }
        }
      }
    },
    {
      "cell_type": "markdown",
      "source": [
        "### 5. Mover cuantificadores universales a la izquierda\n",
        "\n",
        "Antes:\n",
        "\n",
        "$$\n",
        "\\begin{align}\n",
        "\\forall X \\lnot\\text{ ladrillo} (X) \\lor & ((\\text{ sobre}(X,S1(X)) \\land \\lnot \\text{pirámide}(S1(X))) \\\\\n",
        "\\land & (\\forall Y \\lnot \\text{ sobre}(X,Y) \\lor \\lnot \\text{sobre}(Y,X)) \\\\\n",
        "\\land & (\\forall Z \\text{ ladrillo}(Z) \\lor \\lnot \\text{igual}(X,Z)))\n",
        "\\end{align}\n",
        "$$\n",
        "\n",
        "Después:\n",
        "\n",
        "$$\n",
        "\\begin{align}\n",
        "\\forall X \\forall Y \\forall Z \\lnot\\text{ ladrillo} (X) \\lor & ((\\text{ sobre}(X,S1(X)) \\land \\lnot \\text{pirámide}(S1(X))) \\\\\n",
        "\\land & (\\lnot \\text{ sobre}(X,Y) \\lor \\lnot \\text{sobre}(Y,X)) \\\\\n",
        "\\land & (\\text{ ladrillo}(Z) \\lor \\lnot \\text{igual}(X,Z)))\n",
        "\\end{align}\n",
        "$$"
      ],
      "metadata": {
        "nteract": {
          "transient": {
            "deleting": false
          }
        }
      }
    },
    {
      "cell_type": "markdown",
      "source": [
        "### 6. Distribuir disyunciones sobre conjunciones\n",
        "\n",
        "En este paso deberemos utilizar la regla de inferencia distributiva:\n",
        "\n",
        "$[p \\lor (q \\land r)] \\equiv [(p \\lor q) \\land (p \\lor r)]$\n",
        "\n",
        "El resultado se verá como conjunciones de disyunciones.\n",
        "\n",
        "Antes:\n",
        "\n",
        "$$\n",
        "\\begin{align}\n",
        "\\forall X \\forall Y \\forall Z \\lnot\\text{ ladrillo} (X) \\lor & ((\\text{ sobre}(X,S1(X)) \\land \\lnot \\text{pirámide}(S1(X))) \\\\\n",
        "\\land & (\\lnot \\text{ sobre}(X,Y) \\lor \\lnot \\text{sobre}(Y,X)) \\\\\n",
        "\\land & (\\text{ ladrillo}(Z) \\lor \\lnot \\text{igual}(X,Z)))\n",
        "\\end{align}\n",
        "$$\n",
        "\n",
        "Después:\n",
        "\n",
        "$$\n",
        "\\begin{align}\n",
        "\\forall X \\forall Y \\forall Z & (\\lnot\\text{ ladrillo} (X) \\lor \\text{ sobre}(X,S1(X))) \\\\\n",
        "\\land & (\\lnot\\text{ ladrillo} (X) \\lor \\lnot \\text{pirámide}(S1(X))) \\\\\n",
        "\\land & (\\lnot\\text{ ladrillo} (X) \\lor\\lnot \\text{ sobre}(X,Y) \\lor \\lnot \\text{sobre}(Y,X)) \\\\\n",
        "\\land & (\\lnot\\text{ ladrillo} (X) \\lor\\text{ ladrillo}(Z) \\lor \\lnot \\text{igual}(X,Z)))\n",
        "\\end{align}\n",
        "$$"
      ],
      "metadata": {
        "nteract": {
          "transient": {
            "deleting": false
          }
        }
      }
    },
    {
      "cell_type": "markdown",
      "source": [
        "### 7. Eliminar conjunciones\n",
        "\n",
        "En este paso separaremos las expresiones a partir de cada conjunción y las reescribiremos con su cuantificador universal correspondiente.\n",
        "\n",
        "Antes:\n",
        "\n",
        "$$\n",
        "\\begin{align}\n",
        "\\forall X \\forall Y \\forall Z & (\\lnot\\text{ ladrillo} (X) \\lor \\text{ sobre}(X,S1(X))) \\\\\n",
        "\\land & (\\lnot\\text{ ladrillo} (X) \\lor \\lnot \\text{pirámide}(S1(X))) \\\\\n",
        "\\land & (\\lnot\\text{ ladrillo} (X) \\lor\\lnot \\text{ sobre}(X,Y) \\lor \\lnot \\text{sobre}(Y,X)) \\\\\n",
        "\\land & (\\lnot\\text{ ladrillo} (X) \\lor\\text{ ladrillo}(Z) \\lor \\lnot \\text{igual}(X,Z)))\n",
        "\\end{align}\n",
        "$$\n",
        "\n",
        "Después: \n",
        "\n",
        "$$\n",
        "\\begin{align}\n",
        "\\forall X & \\lnot\\text{ ladrillo} (X) \\lor \\text{ sobre}(X,S1(X)) \\\\\n",
        "\\forall X & \\lnot\\text{ ladrillo} (X) \\lor \\lnot \\text{pirámide}(S1(X)) \\\\\n",
        "\\forall X \\forall Y & \\lnot\\text{ ladrillo} (X) \\lor\\lnot \\text{ sobre}(X,Y) \\lor \\lnot \\text{sobre}(Y,X) \\\\\n",
        "\\forall X \\forall Z & \\lnot\\text{ ladrillo} (X) \\lor\\text{ ladrillo}(Z) \\lor \\lnot \\text{igual}(X,Z)\n",
        "\\end{align}\n",
        "$$"
      ],
      "metadata": {
        "nteract": {
          "transient": {
            "deleting": false
          }
        }
      }
    },
    {
      "cell_type": "markdown",
      "source": [
        "### 8. Renombrar variables si es necesario\n",
        "\n",
        "Renombraremos las variables de cada cuantificador universal de forma tal que no existan repetidas.\n",
        "\n",
        "Antes:\n",
        "\n",
        "$$\n",
        "\\begin{align}\n",
        "\\forall X & \\lnot\\text{ ladrillo} (X) \\lor \\text{ sobre}(X,S1(X)) \\\\\n",
        "\\forall X & \\lnot\\text{ ladrillo} (X) \\lor \\lnot \\text{pirámide}(S1(X)) \\\\\n",
        "\\forall X \\forall Y & \\lnot\\text{ ladrillo} (X) \\lor\\lnot \\text{ sobre}(X,Y) \\lor \\lnot \\text{sobre}(Y,X) \\\\\n",
        "\\forall X \\forall Z & \\lnot\\text{ ladrillo} (X) \\lor\\text{ ladrillo}(Z) \\lor \\lnot \\text{igual}(X,Z)\n",
        "\\end{align}\n",
        "$$\n",
        "\n",
        "Después: \n",
        "\n",
        "$$\n",
        "\\begin{align}\n",
        "\\forall X & \\lnot\\text{ ladrillo} (X) \\lor \\text{ sobre}(X,S1(X)) \\\\\n",
        "\\forall Y & \\lnot\\text{ ladrillo} (Y) \\lor \\lnot \\text{pirámide}(S1(Y)) \\\\\n",
        "\\forall U \\forall V & \\lnot\\text{ ladrillo} (U) \\lor\\lnot \\text{ sobre}(U,V) \\lor \\lnot \\text{sobre}(V,U) \\\\\n",
        "\\forall W \\forall Z & \\lnot\\text{ ladrillo} (W) \\lor\\text{ ladrillo}(Z) \\lor \\lnot \\text{igual}(W,Z)\n",
        "\\end{align}\n",
        "$$"
      ],
      "metadata": {
        "nteract": {
          "transient": {
            "deleting": false
          }
        }
      }
    },
    {
      "cell_type": "markdown",
      "source": [
        "### 9. Eliminar cuantificadores universales\n",
        "\n",
        "Antes: \n",
        "\n",
        "$$\n",
        "\\begin{align}\n",
        "\\forall X & \\lnot\\text{ ladrillo} (X) \\lor \\text{ sobre}(X,S1(X)) \\\\\n",
        "\\forall Y & \\lnot\\text{ ladrillo} (Y) \\lor \\lnot \\text{pirámide}(S1(Y)) \\\\\n",
        "\\forall U \\forall V & \\lnot\\text{ ladrillo} (U) \\lor\\lnot \\text{ sobre}(U,V) \\lor \\lnot \\text{sobre}(V,U) \\\\\n",
        "\\forall W \\forall Z & \\lnot\\text{ ladrillo} (W) \\lor\\text{ ladrillo}(Z) \\lor \\lnot \\text{igual}(W,Z)\n",
        "\\end{align}\n",
        "$$\n",
        "\n",
        "Después: \n",
        "\n",
        "$$\n",
        "\\begin{align}\n",
        "& \\lnot\\text{ ladrillo} (X) \\lor \\text{ sobre}(X,S1(X)) \\\\\n",
        "& \\lnot\\text{ ladrillo} (Y) \\lor \\lnot \\text{pirámide}(S1(Y)) \\\\\n",
        "& \\lnot\\text{ ladrillo} (U) \\lor\\lnot \\text{ sobre}(U,V) \\lor \\lnot \\text{sobre}(V,U) \\\\\n",
        "& \\lnot\\text{ ladrillo} (W) \\lor\\text{ ladrillo}(Z) \\lor \\lnot \\text{igual}(W,Z)\n",
        "\\end{align}\n",
        "$$\n"
      ],
      "metadata": {
        "nteract": {
          "transient": {
            "deleting": false
          }
        }
      }
    }
  ],
  "metadata": {
    "kernel_info": {
      "name": "python3"
    },
    "language_info": {
      "name": "python",
      "version": "3.7.3",
      "mimetype": "text/x-python",
      "codemirror_mode": {
        "name": "ipython",
        "version": 3
      },
      "pygments_lexer": "ipython3",
      "nbconvert_exporter": "python",
      "file_extension": ".py"
    },
    "kernelspec": {
      "argv": [
        "python",
        "-m",
        "ipykernel_launcher",
        "-f",
        "{connection_file}"
      ],
      "display_name": "Python 3",
      "language": "python",
      "name": "python3"
    },
    "nteract": {
      "version": "0.25.1"
    }
  },
  "nbformat": 4,
  "nbformat_minor": 0
}