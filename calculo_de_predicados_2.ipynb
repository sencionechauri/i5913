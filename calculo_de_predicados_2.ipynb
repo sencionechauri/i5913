{
  "cells": [
    {
      "cell_type": "markdown",
      "source": [
        "# <center>Cálculo de Predicados</center>\n",
        "## <center>Parte 2</center>"
      ],
      "metadata": {
        "nteract": {
          "transient": {
            "deleting": false
          }
        }
      }
    },
    {
      "cell_type": "code",
      "source": [
        "%%html\n",
        "<center><iframe src=\"https://drive.google.com/file/d/1pSZv6VjZ84-TLImlnKIG1RuMQByp5mlp/preview\" width=\"320\" height=\"240\"></iframe></center>"
      ],
      "outputs": [],
      "execution_count": null,
      "metadata": {
        "collapsed": true,
        "jupyter": {
          "source_hidden": false,
          "outputs_hidden": false
        },
        "nteract": {
          "transient": {
            "deleting": false
          }
        },
        "execution": {
          "iopub.status.busy": "2020-10-16T07:47:46.413Z",
          "iopub.execute_input": "2020-10-16T07:47:46.466Z",
          "iopub.status.idle": "2020-10-16T07:47:46.825Z",
          "shell.execute_reply": "2020-10-16T07:47:46.889Z"
        }
      }
    },
    {
      "cell_type": "markdown",
      "source": [
        "## Reglas de Inferencia\n",
        "\n",
        "En cálculo de predicados existen reglas de inferencia que pueden aplicarse sobre algunas fórmulas bien formadas para producir nuevas fórmulas bien formadas.\n",
        "\n",
        "Las reglas de inferencia producen FBFs a partir de otras. Dentro del cálculo de predicados éstas FBFs se llaman Teoremas y la secuencia de aplicación de reglas de inferencia constituyen la Prueba del Teorema."
      ],
      "metadata": {
        "nteract": {
          "transient": {
            "deleting": false
          }
        }
      }
    },
    {
      "cell_type": "markdown",
      "source": [
        "## Reglas de Inferencia y Su Interpretación\n"
      ],
      "metadata": {
        "nteract": {
          "transient": {
            "deleting": false
          }
        }
      }
    },
    {
      "cell_type": "markdown",
      "source": [
        "### Modus Ponens (M. P.)\n",
        "\n",
        "$p \\rightarrow q$\n",
        "\n",
        "$p$\n",
        "\n",
        "$\\therefore q$\n",
        "\n",
        "<br><br>\n",
        "\n",
        "Ejemplo:\n",
        "\n",
        "$p = \\text{trueno}$\n",
        "\n",
        "$q = \\text{lluvia}$\n",
        "\n",
        "<br>\n",
        "\n",
        "$\\text{trueno} \\rightarrow \\text{lluvia}$\n",
        "\n",
        "$\\text{trueno}$\n",
        "\n",
        "$\\therefore \\text{lluvia}$"
      ],
      "metadata": {
        "nteract": {
          "transient": {
            "deleting": false
          }
        }
      }
    },
    {
      "cell_type": "markdown",
      "source": [
        "### Modus Tollens (M. T.)\n",
        "\n",
        "$p \\rightarrow q$\n",
        "\n",
        "$\\lnot q$\n",
        "\n",
        "$\\therefore \\lnot p$\n",
        "\n",
        "<br><br>\n",
        "\n",
        "Ejemplo:\n",
        "\n",
        "$p = \\text{trueno}$\n",
        "\n",
        "$q = \\text{lluvia}$\n",
        "\n",
        "<br>\n",
        "\n",
        "$\\text{trueno} \\rightarrow \\text{lluvia}$\n",
        "\n",
        "$\\lnot \\text{lluvia}$\n",
        "\n",
        "$\\therefore \\lnot \\text{trueno}$"
      ],
      "metadata": {
        "nteract": {
          "transient": {
            "deleting": false
          }
        }
      }
    },
    {
      "cell_type": "markdown",
      "source": [
        "### Sologismo Hipotético (S. H.)\n",
        "\n",
        "$p \\rightarrow q$\n",
        "\n",
        "$q \\rightarrow r$\n",
        "\n",
        "$\\therefore p \\rightarrow r$\n",
        "\n",
        "<br><br>\n",
        "\n",
        "Ejemplo:\n",
        "\n",
        "$p = \\text{trueno}$\n",
        "\n",
        "$q = \\text{lluvia}$\n",
        "\n",
        "$r = \\text{inundación}$\n",
        "\n",
        "<br>\n",
        "\n",
        "$\\text{trueno} \\rightarrow \\text{lluvia}$\n",
        "\n",
        "$\\text{lluvia} \\rightarrow \\text{inundación}$\n",
        "\n",
        "$\\therefore \\text{trueno} \\rightarrow \\text{inundación}$"
      ],
      "metadata": {
        "nteract": {
          "transient": {
            "deleting": false
          }
        }
      }
    },
    {
      "cell_type": "markdown",
      "source": [
        "### Silogismo Disyuntivo (S. D.)\n",
        "\n",
        "$p \\lor q$\n",
        "\n",
        "$\\lnot p$\n",
        "\n",
        "$\\therefore q$\n",
        "\n",
        "<br><br>\n",
        "\n",
        "Ejemplo:\n",
        "\n",
        "$p = \\text{frío}$\n",
        "\n",
        "$q = \\text{calor}$\n",
        "\n",
        "<br>\n",
        "\n",
        "$\\text{frío} \\lor \\text{calor}$\n",
        "\n",
        "$\\lnot \\text{frío}$\n",
        "\n",
        "$\\therefore \\text{calor}$"
      ],
      "metadata": {
        "nteract": {
          "transient": {
            "deleting": false
          }
        }
      }
    },
    {
      "cell_type": "markdown",
      "source": [
        "### Dilema Constructivo (D. C.)\n",
        "\n",
        "$(p \\rightarrow q) \\land (q \\rightarrow r)$\n",
        "\n",
        "$p \\lor r$\n",
        "\n",
        "$\\therefore q \\lor s$\n",
        "\n",
        "<br><br>\n",
        "\n",
        "Ejemplo:\n",
        "\n",
        "$p = \\text{trueno}$\n",
        "\n",
        "$q = \\text{lluvia}$\n",
        "\n",
        "$r = \\text{humo}$\n",
        "\n",
        "$s = \\text{fuego}$\n",
        "\n",
        "<br>\n",
        "\n",
        "$(\\text{trueno} \\rightarrow \\text{lluvia}) \\land (\\text{humo} \\rightarrow \\text{fuego})$\n",
        "\n",
        "$\\text{trueno} \\lor \\text{humo}$\n",
        "\n",
        "$\\therefore \\text{lluvia} \\lor \\text{fuego}$"
      ],
      "metadata": {
        "nteract": {
          "transient": {
            "deleting": false
          }
        }
      }
    },
    {
      "cell_type": "markdown",
      "source": [
        "### Absorción (Abs.)\n",
        "\n",
        "$p \\rightarrow q$\n",
        "\n",
        "$\\therefore p \\rightarrow (p \\land q)$\n",
        "\n",
        "<br><br>\n",
        "\n",
        "Ejemplo:\n",
        "\n",
        "$p = \\text{trueno}$\n",
        "\n",
        "$q = \\text{lluvia}$\n",
        "\n",
        "<br>\n",
        "\n",
        "$\\text{trueno} \\rightarrow \\text{lluvia}$\n",
        "\n",
        "$\\therefore \\text{trueno} \\rightarrow (\\text{trueno} \\land \\text{lluvia})$"
      ],
      "metadata": {
        "nteract": {
          "transient": {
            "deleting": false
          }
        }
      }
    },
    {
      "cell_type": "markdown",
      "source": [
        "### Simplificación (Simp.)\n",
        "\n",
        "$p \\land q$\n",
        "\n",
        "$\\therefore p$\n",
        "\n",
        "<br><br>\n",
        "\n",
        "Ejemplo:\n",
        "\n",
        "$p = \\text{trueno}$\n",
        "\n",
        "$q = \\text{lluvia}$\n",
        "\n",
        "<br>\n",
        "\n",
        "$\\text{trueno} \\land \\text{lluvia}$\n",
        "\n",
        "$\\therefore \\text{trueno}$"
      ],
      "metadata": {
        "nteract": {
          "transient": {
            "deleting": false
          }
        }
      }
    },
    {
      "cell_type": "markdown",
      "source": [
        "### Conjunción (Conj.)\n",
        "\n",
        "$p$\n",
        "\n",
        "$q$\n",
        "\n",
        "$\\therefore p \\land q$\n",
        "\n",
        "<br><br>\n",
        "\n",
        "Ejemplo:\n",
        "\n",
        "$p = \\text{trueno}$\n",
        "\n",
        "$q = \\text{lluvia}$\n",
        "\n",
        "<br>\n",
        "\n",
        "$\\text{trueno}$\n",
        "\n",
        "$\\text{lluvia}$\n",
        "\n",
        "$\\therefore \\text{trueno} \\land \\text{lluvia}$"
      ],
      "metadata": {
        "nteract": {
          "transient": {
            "deleting": false
          }
        }
      }
    },
    {
      "cell_type": "markdown",
      "source": [
        "### Adición (Ad.)\n",
        "\n",
        "$p$\n",
        "\n",
        "$\\therefore p \\lor q$\n",
        "\n",
        "<br><br>\n",
        "\n",
        "Ejemplo:\n",
        "\n",
        "$p = \\text{trueno}$\n",
        "\n",
        "$q = \\text{lluvia}$\n",
        "\n",
        "<br>\n",
        "\n",
        "$\\text{trueno}$\n",
        "\n",
        "$\\therefore \\text{trueno} \\lor \\text{lluvia}$"
      ],
      "metadata": {
        "nteract": {
          "transient": {
            "deleting": false
          }
        }
      }
    },
    {
      "cell_type": "markdown",
      "source": [
        "Cualquiera de las siguientes expresiones lógicamente equivalentes puede reemplazar a la otra cuando ocurran."
      ],
      "metadata": {
        "nteract": {
          "transient": {
            "deleting": false
          }
        }
      }
    },
    {
      "cell_type": "markdown",
      "source": [
        "### Teorema de Morgan (De M.)\n",
        "\n",
        "$\\lnot (p \\land q) \\equiv (\\lnot p \\lor \\lnot q)$\n",
        "\n",
        "$\\lnot (p \\lor q) \\equiv (\\lnot p \\land \\lnot q)$"
      ],
      "metadata": {
        "nteract": {
          "transient": {
            "deleting": false
          }
        }
      }
    },
    {
      "cell_type": "markdown",
      "source": [
        "### Conmutación (Con.)\n",
        "\n",
        "$(p \\lor q) \\equiv (q \\lor p)$\n",
        "\n",
        "$(p \\land q) \\equiv (q \\land p)$"
      ],
      "metadata": {
        "nteract": {
          "transient": {
            "deleting": false
          }
        }
      }
    },
    {
      "cell_type": "markdown",
      "source": [
        "### Asociación (Asoc.)\n",
        "\n",
        "$[p \\lor (q \\lor r)] \\equiv [(p \\lor q) \\lor r]$\n",
        "\n",
        "$[p \\land (q \\land r)] \\equiv [(p \\land q) \\land r]$"
      ],
      "metadata": {
        "nteract": {
          "transient": {
            "deleting": false
          }
        }
      }
    },
    {
      "cell_type": "markdown",
      "source": [
        "### Distribución (Dist.)\n",
        "\n",
        "$[p \\land (q \\lor r)] \\equiv [(p \\land q) \\lor (p \\land r)]$\n",
        "\n",
        "$[p \\lor (q \\land r)] \\equiv [(p \\lor q) \\land (p \\lor r)]$"
      ],
      "metadata": {
        "nteract": {
          "transient": {
            "deleting": false
          }
        }
      }
    },
    {
      "cell_type": "markdown",
      "source": [
        "### Doble Negación (D. N.)\n",
        "\n",
        "$p \\equiv \\lnot\\lnot p$"
      ],
      "metadata": {
        "nteract": {
          "transient": {
            "deleting": false
          }
        }
      }
    },
    {
      "cell_type": "markdown",
      "source": [
        "### Transposición (Trans.)\n",
        "\n",
        "$(p \\rightarrow q) \\equiv (\\lnot q \\rightarrow \\lnot p)$"
      ],
      "metadata": {
        "nteract": {
          "transient": {
            "deleting": false
          }
        }
      }
    },
    {
      "cell_type": "markdown",
      "source": [
        "### Implicación Material (Imp. M.)\n",
        "\n",
        "$(p \\rightarrow q) \\equiv (\\lnot p \\lor q)$"
      ],
      "metadata": {
        "nteract": {
          "transient": {
            "deleting": false
          }
        }
      }
    },
    {
      "cell_type": "markdown",
      "source": [
        "### Equivalencia Material (Equiv. M.)\n",
        "\n",
        "$(p \\equiv q) \\equiv [(p \\rightarrow q) \\land (q \\rightarrow p)]$\n",
        "\n",
        "$(p \\equiv q) \\equiv [(p \\land q) \\lor (\\lnot p \\land \\lnot q)]$"
      ],
      "metadata": {
        "nteract": {
          "transient": {
            "deleting": false
          }
        }
      }
    },
    {
      "cell_type": "markdown",
      "source": [
        "### Exportación (Exp.)\n",
        "\n",
        "$[(p \\land q) \\rightarrow r] \\equiv [(p \\rightarrow (q \\rightarrow r)]$"
      ],
      "metadata": {
        "nteract": {
          "transient": {
            "deleting": false
          }
        }
      }
    },
    {
      "cell_type": "markdown",
      "source": [
        "### Tautología (Taut.)\n",
        "\n",
        "$p \\equiv (p \\lor p)$\n",
        "\n",
        "$p \\equiv (p \\land p)$"
      ],
      "metadata": {
        "nteract": {
          "transient": {
            "deleting": false
          }
        }
      }
    },
    {
      "cell_type": "code",
      "source": [
        "%%html\n",
        "<center><iframe src=\"https://drive.google.com/file/d/1EeZiLiW7NNcxldRloCxUSSG7eF3odSuv/preview\" width=\"320\" height=\"240\"></iframe></center>"
      ],
      "outputs": [],
      "execution_count": null,
      "metadata": {
        "collapsed": true,
        "jupyter": {
          "source_hidden": false,
          "outputs_hidden": false
        },
        "nteract": {
          "transient": {
            "deleting": false
          }
        },
        "execution": {
          "iopub.status.busy": "2020-10-16T07:49:58.869Z",
          "iopub.execute_input": "2020-10-16T07:49:58.921Z",
          "iopub.status.idle": "2020-10-16T07:49:59.263Z",
          "shell.execute_reply": "2020-10-16T07:49:59.326Z"
        }
      }
    },
    {
      "cell_type": "markdown",
      "source": [
        "## Unificación\n",
        "\n",
        "Para probar teoremas que incluyen fórmulas cuantificadas, a menudo es necesario “asemejar” ciertas sub-expresiones.\n",
        "\n",
        "Encontrar sustituciones de variables para igualar expresiones es un proceso muy importante de la IA llamado Unificación."
      ],
      "metadata": {
        "nteract": {
          "transient": {
            "deleting": false
          }
        }
      }
    },
    {
      "cell_type": "markdown",
      "source": [
        "## Sustitución\n",
        "\n",
        "Se pueden representar las sustituciones por un conjunto de pares ordenados $s=t_{1}/v_{1}, t_{2}/v_{2}, \\dots, t_{n}/v_{n}$. En donde $t_{i}/v_{i}$ quiere decir que el término $t_{i}$ se reemplaza por la variable $v_{i}$ en toda la expresión."
      ],
      "metadata": {
        "nteract": {
          "transient": {
            "deleting": false
          }
        }
      }
    },
    {
      "cell_type": "markdown",
      "source": [
        "Uniendo lo anterior tenemos casos como:\n",
        "\n",
        "$\\text{conoce(pedro, X), conoce(pedro, ana)}$\n",
        "\n",
        "* ${X/ana}$\n",
        "\n",
        "<br>\n",
        "\n",
        "$\\text{conoce(ana, X), conoce(Y, juan)}$\n",
        "\n",
        "* ${X/juan, Y/ana}$\n",
        "\n",
        "<br>\n",
        "\n",
        "$\\text{conoce(ana, X), conoce(X, juan)}$\n",
        "\n",
        "* Fallo ($X$, tendría que ser ana y juan al mismo tiempo)."
      ],
      "metadata": {
        "nteract": {
          "transient": {
            "deleting": false
          }
        }
      }
    },
    {
      "cell_type": "markdown",
      "source": [
        "El propósito del proceso de unificación es permitir la resolución y verificación de un teorema."
      ],
      "metadata": {
        "nteract": {
          "transient": {
            "deleting": false
          }
        }
      }
    }
  ],
  "metadata": {
    "kernel_info": {
      "name": "python3"
    },
    "language_info": {
      "name": "python",
      "version": "3.7.3",
      "mimetype": "text/x-python",
      "codemirror_mode": {
        "name": "ipython",
        "version": 3
      },
      "pygments_lexer": "ipython3",
      "nbconvert_exporter": "python",
      "file_extension": ".py"
    },
    "kernelspec": {
      "argv": [
        "python",
        "-m",
        "ipykernel_launcher",
        "-f",
        "{connection_file}"
      ],
      "display_name": "Python 3",
      "language": "python",
      "name": "python3"
    },
    "nteract": {
      "version": "0.25.1"
    }
  },
  "nbformat": 4,
  "nbformat_minor": 0
}