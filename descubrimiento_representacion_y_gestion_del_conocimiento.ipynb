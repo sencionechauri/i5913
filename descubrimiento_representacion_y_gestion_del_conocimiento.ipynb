{
  "cells": [
    {
      "cell_type": "markdown",
      "source": [
        "# <center>Descubrimiento, representación y gestión del conocimiento (parte 1)</center>"
      ],
      "metadata": {
        "nteract": {
          "transient": {
            "deleting": false
          }
        }
      }
    },
    {
      "cell_type": "markdown",
      "source": [
        "## <center>¿Qué es el conocimiento?</center>\n",
        "\n",
        "Proceso en virtud del cual la realidad se refleja y reproduce en el pensamiento humano."
      ],
      "metadata": {
        "nteract": {
          "transient": {
            "deleting": false
          }
        }
      }
    },
    {
      "cell_type": "markdown",
      "source": [
        "### Conocer...\n",
        "\n",
        "Es un proceso de abstracción con, posiblemente, muchos niveles.\n",
        "\n",
        "Dicha abstracción se genera a partir de la interacción del humano con su entorno y con ello se produce una representación del mismo."
      ],
      "metadata": {
        "nteract": {
          "transient": {
            "deleting": false
          }
        }
      }
    },
    {
      "cell_type": "markdown",
      "source": [
        "### Conocer...\n",
        "\n",
        "¿Quién o qué estudia el conocimiento?"
      ],
      "metadata": {
        "nteract": {
          "transient": {
            "deleting": false
          }
        }
      }
    },
    {
      "cell_type": "markdown",
      "source": [
        "### Epistemología\n",
        "\n",
        "Es la rama de la filosofía que estudia el conocimiento, se ocupa de la naturaleza del conocimiento, de su posibilidad, alcance y base general."
      ],
      "metadata": {
        "nteract": {
          "transient": {
            "deleting": false
          }
        }
      }
    },
    {
      "cell_type": "markdown",
      "source": [
        "### Algunas categorías de epistemología\n",
        "\n",
        "<center><img src=\"media/epistemologia.png\" width=50%/></center>"
      ],
      "metadata": {
        "nteract": {
          "transient": {
            "deleting": false
          }
        }
      }
    },
    {
      "cell_type": "markdown",
      "source": [
        "### Tipos de conocimiento\n",
        "\n",
        "**Tácito**. Algunas veces es llamado conocimiento inconsciente, porque es muy difícil (sino es que imposible) describir con el lenguaje.\n",
        "\n",
        "**Explícito**. Todo el conocimiento que puede transcribirse, reproducirse, enviarse, recibirse, etcétera sin implicar esfuerzos “especiales” de pre o post procesamiento."
      ],
      "metadata": {
        "nteract": {
          "transient": {
            "deleting": false
          }
        }
      }
    },
    {
      "cell_type": "markdown",
      "source": [
        "### La pirámide del conocimiento\n",
        "\n",
        "<center><img src = \"media/niveles_conocimiento.png\" width=50%/></center>"
      ],
      "metadata": {
        "nteract": {
          "transient": {
            "deleting": false
          }
        }
      }
    },
    {
      "cell_type": "markdown",
      "source": [
        "<center><img src=\"media/niveles_conocimiento_2.png\" width=50% /></center>"
      ],
      "metadata": {
        "nteract": {
          "transient": {
            "deleting": false
          }
        }
      }
    },
    {
      "cell_type": "markdown",
      "source": [
        "### Ruido\n",
        "\n",
        "Aquello que no representa valor en la construcción del conocimiento.\n",
        "\n",
        "No tiene una interpretación significativa en un contexto determinado."
      ],
      "metadata": {
        "nteract": {
          "transient": {
            "deleting": false
          }
        }
      }
    },
    {
      "cell_type": "markdown",
      "source": [
        "### Dato\n",
        "\n",
        "Carecen de un significado inherente. \n",
        "\n",
        "Proveen retroalimentación de la realidad y su utilidad pudiera radicar en validar o contradecir una afirmación."
      ],
      "metadata": {
        "nteract": {
          "transient": {
            "deleting": false
          }
        }
      }
    },
    {
      "cell_type": "markdown",
      "source": [
        "### Información\n",
        "\n",
        "Resulta de organizar datos en un contexto significativo.\n",
        "\n",
        "La información puede estar oculta dentro de los datos."
      ],
      "metadata": {
        "nteract": {
          "transient": {
            "deleting": false
          }
        }
      }
    },
    {
      "cell_type": "markdown",
      "source": [
        "<center><img src=\"media/informacion_1.png\" width=50%/></center>\n",
        "<center><img src=\"media/informacion_2.png\" width=50%/></center>\n"
      ],
      "metadata": {
        "nteract": {
          "transient": {
            "deleting": false
          }
        }
      }
    },
    {
      "cell_type": "markdown",
      "source": [
        "### Conocimiento\n",
        "\n",
        "Es el resultado de la interacción de:\n",
        "\n",
        "* Experiencia\n",
        "* Observaciones\n",
        "* Información contextual\n",
        "* Abstracción\n",
        "\n",
        "Otra manera de interpretarlo es como *reglas* sobre cómo utilizar la información.\n",
        "\n",
        "Algunos productos resultantes del conocimiento son:\n",
        "\n",
        "* Hechos\n",
        "* Conceptos\n",
        "* Principios\n",
        "* Modelos\n"
      ],
      "metadata": {
        "nteract": {
          "transient": {
            "deleting": false
          }
        }
      }
    },
    {
      "cell_type": "markdown",
      "source": [
        "### Meta-Conocimiento\n",
        "\n",
        "Reglas sobre el conocimiento.\n",
        "\n",
        "Conocimiento para describir conocimiento."
      ],
      "metadata": {
        "nteract": {
          "transient": {
            "deleting": false
          }
        }
      }
    },
    {
      "cell_type": "markdown",
      "source": [
        "### ¿Sabiduria?"
      ],
      "metadata": {
        "nteract": {
          "transient": {
            "deleting": false
          }
        }
      }
    }
  ],
  "metadata": {
    "kernel_info": {
      "name": "python3"
    },
    "language_info": {
      "name": "python",
      "version": "3.7.3",
      "mimetype": "text/x-python",
      "codemirror_mode": {
        "name": "ipython",
        "version": 3
      },
      "pygments_lexer": "ipython3",
      "nbconvert_exporter": "python",
      "file_extension": ".py"
    },
    "kernelspec": {
      "argv": [
        "python",
        "-m",
        "ipykernel_launcher",
        "-f",
        "{connection_file}"
      ],
      "display_name": "Python 3",
      "language": "python",
      "name": "python3"
    },
    "nteract": {
      "version": "0.25.1"
    }
  },
  "nbformat": 4,
  "nbformat_minor": 0
}