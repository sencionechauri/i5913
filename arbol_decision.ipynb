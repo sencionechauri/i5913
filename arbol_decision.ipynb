{
  "cells": [
    {
      "cell_type": "markdown",
      "source": [
        "# <center>Árboles de Decisión</center>"
      ],
      "metadata": {
        "nteract": {
          "transient": {
            "deleting": false
          }
        }
      }
    },
    {
      "cell_type": "code",
      "source": [
        "import pandas\n",
        "from sklearn import tree\n",
        "from sklearn.tree import DecisionTreeClassifier\n",
        "import matplotlib.pyplot as plt\n",
        "import matplotlib.image as pltimg\n",
        "\n",
        "df = pandas.read_csv(\"adivina_quien_reducido.csv\")\n",
        "\n",
        "features = ['piel_oscura', 'barba', 'bigote', 'ojos_oscuros', 'nariz_chica', 'sombrero_gorra', 'cabello_corto', 'cabello_oscuro', 'lentes']\n",
        "names = ['Roger', 'Frank', 'Sophie', 'Anne', 'Katrin', 'Anita', 'Charles', 'Max']\n",
        "\n",
        "X = df[features]\n",
        "y = df['personaje']\n",
        "\n",
        "print(X)\n",
        "print(y)\n",
        "\n",
        "plt.figure(figsize=(15,6))\n",
        "dtree = DecisionTreeClassifier()\n",
        "dtree = dtree.fit(X, y)\n",
        "tree.plot_tree(dtree, feature_names=features, class_names=names, filled=True) \n",
        "plt.show() \n",
        "\n",
        "print(names[dtree.predict([[0,0,0,1,1,0,0,1,0]])[0]]) "
      ],
      "outputs": [],
      "execution_count": null,
      "metadata": {
        "collapsed": true,
        "jupyter": {
          "source_hidden": false,
          "outputs_hidden": false
        },
        "nteract": {
          "transient": {
            "deleting": false
          }
        }
      }
    }
  ],
  "metadata": {
    "kernel_info": {
      "name": "python3"
    },
    "language_info": {
      "name": "python",
      "version": "3.7.3",
      "mimetype": "text/x-python",
      "codemirror_mode": {
        "name": "ipython",
        "version": 3
      },
      "pygments_lexer": "ipython3",
      "nbconvert_exporter": "python",
      "file_extension": ".py"
    },
    "kernelspec": {
      "argv": [
        "python",
        "-m",
        "ipykernel_launcher",
        "-f",
        "{connection_file}"
      ],
      "display_name": "Python 3",
      "language": "python",
      "name": "python3"
    },
    "nteract": {
      "version": "0.26.0"
    }
  },
  "nbformat": 4,
  "nbformat_minor": 0
}