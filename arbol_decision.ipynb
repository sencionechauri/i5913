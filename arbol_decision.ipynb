{
  "cells": [
    {
      "cell_type": "markdown",
      "source": [
        "# <center>Árboles de Decisión</center>"
      ],
      "metadata": {
        "nteract": {
          "transient": {
            "deleting": false
          }
        }
      }
    },
    {
      "cell_type": "markdown",
      "source": [
        "Un árbol de decisión es uno de los algoritmos de aprendizaje máquina supervisado (supervised machine learning) más ampliamente utilizados que pueden realizar tareas tanto de regresión como de clasificación. \n",
        "\n",
        "Para cada atributo en un conjunto de datos (dataset) el algoritmo del árbol de decisión forma un nodo en donde el atributo más importante es colocado en la raíz. Para evaluar el árbol se comienza en el nodo raíz y se continúa hacia abajo siguiendo el nodo que corresponda con la condición o decisión tomada."
      ],
      "metadata": {
        "nteract": {
          "transient": {
            "deleting": false
          }
        }
      }
    },
    {
      "cell_type": "markdown",
      "source": [
        "En este cuaderno crearemos un árbol de decisión para el problema de reconocer un personaje de la siguiente plantilla del juego de adivina quien: \n",
        "\n",
        "<center><img src= \"media/planilla.jpg\" width=80% /></center>\n",
        "\n",
        "Para poder mostrar el árbol resultante en este cuaderno utilizaremos únicamente los primeros 8 personajes."
      ],
      "metadata": {
        "nteract": {
          "transient": {
            "deleting": false
          }
        }
      }
    },
    {
      "cell_type": "markdown",
      "source": [
        "Comencemos importando los módulos necesarios en Python, siendo sklearn (Scikit Learn) el módulo en el cual se encuentra lo necesario para crear árboles de decisión."
      ],
      "metadata": {
        "nteract": {
          "transient": {
            "deleting": false
          }
        }
      }
    },
    {
      "cell_type": "code",
      "source": [
        "import pandas\n",
        "from sklearn import tree\n",
        "from sklearn.tree import DecisionTreeClassifier\n",
        "import matplotlib.pyplot as plt"
      ],
      "outputs": [],
      "execution_count": null,
      "metadata": {
        "collapsed": true,
        "jupyter": {
          "source_hidden": false,
          "outputs_hidden": false
        },
        "nteract": {
          "transient": {
            "deleting": false
          }
        }
      }
    },
    {
      "cell_type": "markdown",
      "source": [
        "Ahora leemos la base de conocimiento en formato csv.\n",
        "\n",
        "El archivo csv tendrá un renglón para cada personaje y en cada columna se encontrará un 1 si el personaje tiene la característica correspondiente y un 0 si no la presenta."
      ],
      "metadata": {
        "nteract": {
          "transient": {
            "deleting": false
          }
        }
      }
    },
    {
      "cell_type": "code",
      "source": [
        "# Leemos el archivo csv\n",
        "df = pandas.read_csv(\"adivina_quien_reducido.csv\")\n",
        "\n",
        "# Características de los personajes \n",
        "features = ['piel_oscura', 'barba', 'bigote', 'ojos_oscuros', 'nariz_chica', 'sombrero_gorra', 'cabello_corto', 'cabello_oscuro', 'lentes']\n",
        "# Nombres de los personajes\n",
        "names = ['Roger', 'Frank', 'Sophie', 'Anne', 'Katrin', 'Anita', 'Charles', 'Max']\n",
        "\n",
        "# La información de entrada son las características\n",
        "X = df[features]\n",
        "# La información a clasificar/predecir será la columna 'personaje' del archivo csv\n",
        "y = df['personaje']\n",
        "\n",
        "# Imprimimos las características para cada personaje\n",
        "print(X)"
      ],
      "outputs": [],
      "execution_count": null,
      "metadata": {
        "collapsed": true,
        "jupyter": {
          "source_hidden": false,
          "outputs_hidden": false
        },
        "nteract": {
          "transient": {
            "deleting": false
          }
        }
      }
    },
    {
      "cell_type": "markdown",
      "source": [
        "A continuación creamos el árbol de decisión/clasificación y hacemos que entrene con las entradas $X$ y la salida $y$ para posteriormente graficar el árbol resultante."
      ],
      "metadata": {
        "nteract": {
          "transient": {
            "deleting": false
          }
        }
      }
    },
    {
      "cell_type": "code",
      "source": [
        "plt.figure(figsize=(15,6))\n",
        "dtree = DecisionTreeClassifier()\n",
        "dtree = dtree.fit(X, y)\n",
        "tree.plot_tree(dtree, feature_names=features, class_names=names, filled=True) \n",
        "plt.show() "
      ],
      "outputs": [],
      "execution_count": null,
      "metadata": {
        "collapsed": true,
        "jupyter": {
          "source_hidden": false,
          "outputs_hidden": false
        },
        "nteract": {
          "transient": {
            "deleting": false
          }
        }
      }
    },
    {
      "cell_type": "markdown",
      "source": [
        "Finalmente vamos a predecir la identidad de un personaje. Como entrada usaremos la combinación de valores que representan las características de uno de los personajes."
      ],
      "metadata": {
        "nteract": {
          "transient": {
            "deleting": false
          }
        }
      }
    },
    {
      "cell_type": "code",
      "source": [
        "print(f'El personaje es: {names[dtree.predict([[0,0,0,1,1,0,0,1,0]]})[0]]') "
      ],
      "outputs": [],
      "execution_count": null,
      "metadata": {
        "collapsed": true,
        "jupyter": {
          "source_hidden": false,
          "outputs_hidden": false
        },
        "nteract": {
          "transient": {
            "deleting": false
          }
        }
      }
    }
  ],
  "metadata": {
    "kernel_info": {
      "name": "python3"
    },
    "language_info": {
      "name": "python",
      "version": "3.7.3",
      "mimetype": "text/x-python",
      "codemirror_mode": {
        "name": "ipython",
        "version": 3
      },
      "pygments_lexer": "ipython3",
      "nbconvert_exporter": "python",
      "file_extension": ".py"
    },
    "kernelspec": {
      "argv": [
        "python",
        "-m",
        "ipykernel_launcher",
        "-f",
        "{connection_file}"
      ],
      "display_name": "Python 3",
      "language": "python",
      "name": "python3"
    },
    "nteract": {
      "version": "0.26.0"
    }
  },
  "nbformat": 4,
  "nbformat_minor": 0
}