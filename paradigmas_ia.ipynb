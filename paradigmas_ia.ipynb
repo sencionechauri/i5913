{
  "cells": [
    {
      "cell_type": "markdown",
      "source": [
        "# <center>Paradigmas de la Inteligencia Artificial</center>"
      ],
      "metadata": {
        "nteract": {
          "transient": {
            "deleting": false
          }
        }
      }
    },
    {
      "cell_type": "markdown",
      "source": [
        "## <center>¿Qué es la inteligencia artificial?</center>\n",
        "\n",
        "Se puede entender desde cuatro perspectivas\n",
        "\n",
        "<center>\n",
        "  <table>\n",
        "    <tr>\n",
        "      <td><b>Pensar Humanamente</b><br>\"El emocionante nuevo esfuerzo para hacer a las computadoras pensar... máquinas con mente en el sentido literal y completo.\" (Haugeland, 1985)<br>\n",
        "      \"[La automatización de] actividades que asociamos con el pensamiento humano, actividades tales como la toma de decisiones, resolución de problemas, aprendizaje...\" (Bellman, 1978)</td>\n",
        "      <td><b>Pensar Racionalmente</b><br>\"El estudio de las facultades mentales a través del uso de modelos computacionales.\" (Charniak and McDermott, 1985)<br>\n",
        "      \"El estudio de cómputo que hace posible percibir, razonar y actuar.\" (Winston, 1992)</td>\n",
        "    </tr>\n",
        "    <tr>\n",
        "      <td><b>Actuar Humanamente</b><br>\"El arte de crear máquinas que realizan funciones que requieren inteligencia cuando son hechas por personas.\" (Kuezweil, 1990)<br>\n",
        "      \"El estudio de cómo hacer que las computadoras hagan cosas para las cuales, de momento, la gente es mejor.\" (Rich and Knight, 1991)</td>\n",
        "      <td><b>Actuar Racionalmente</b><br>\"La inteligencia computacional es el estudio del diseño de agentes inteligentes.\" (Poole et al, 1998)<br>\n",
        "        \"IA... se ocupa del comportamiento inteligente en artefactos,\" (Nilsson, 1998)\n",
        "      </td>\n",
        "    </tr>\n",
        "  </table>\n",
        "</center>"
      ],
      "metadata": {
        "nteract": {
          "transient": {
            "deleting": false
          }
        }
      }
    },
    {
      "cell_type": "markdown",
      "source": [
        "## <center>Actuar Humanamente</center>\n",
        "\n",
        "Se basa en la prueba de Turing (1950) que consistía en colocar en cámaras aisladas a una persona y una computadora. El humano debía interactuar con la computadora de la cámara contigua con texto escrito en lenguaje natural por medio de algún dispositivo de entrada y la máquina debía mantener la conversación; si el humano no podía concluir si estaba o no conversando con una máquina entonces esa máquina había aprobado la prueba de Turing.\n",
        "\n",
        "Para la prueba de Turing se necesita:\n",
        "* Procesamiento de lenguaje natural\n",
        "* Representación de conocimiento\n",
        "* Razonamiento automatizado\n",
        "* Aprendizaje de máquina\n",
        "\n",
        "Existe una versión *completa* de la prueba de Turing en la que además el humano debía pasar objetos a la máquina a través de una escotilla, para ello además es necesario.\n",
        "\n",
        "* Visión por computadora\n",
        "* Robótica"
      ],
      "metadata": {
        "nteract": {
          "transient": {
            "deleting": false
          }
        }
      }
    },
    {
      "cell_type": "markdown",
      "source": [
        "## <center>Pensar Humanamente</center>\n",
        "\n",
        "Si vamos a decir que cierto programa piensa como un humano debemos tener alguna forma de determinar cómo piensan los humanos. Podemos considerar tres formas de abordarlo:\n",
        "\n",
        "* A través de introspección\n",
        "* A través de experimentos psicológicos\n",
        "* A través de obtener imágenes del cerebro"
      ],
      "metadata": {
        "nteract": {
          "transient": {
            "deleting": false
          }
        }
      }
    },
    {
      "cell_type": "markdown",
      "source": [
        "## <center>Pensar Racionalmente</center>\n",
        "\n",
        "El filósofo griego aristóteles fue uno de los primeros en intentar codificar el *pensamiento correcto* o un proceso irrefutable de razonamiento; su trabajo condujo a las **Leyes del pensamiento**.\n",
        "En el siglo 19 se desarrolló la **notación lógica**: una notación precisa para postulados sobre toda clase de objetos en el mundo y la relación entre ellos."
      ],
      "metadata": {
        "nteract": {
          "transient": {
            "deleting": false
          }
        }
      }
    },
    {
      "cell_type": "markdown",
      "source": [
        "## <center>Actuar Racionalmente</center>\n",
        "\n",
        "Se basa en la ídea de agentes computacionales que:\n",
        "* Operen autonomamente\n",
        "* Perciban su entorno\n",
        "* Persistan por un largo período de tiempo\n",
        "* Se adapten al cambio\n",
        "* Generen y persigan metas"
      ],
      "metadata": {
        "nteract": {
          "transient": {
            "deleting": false
          }
        }
      }
    },
    {
      "cell_type": "code",
      "source": [
        "from IPython.display import HTML\n",
        "\n",
        "HTML(\"\"\"\n",
        "<center>\n",
        "<iframe src=\"https://drive.google.com/file/d/1LheS5JgeKVOwXvKlDSrc4DqLvUYw2MUR/preview\" width=\"320\" height=\"240\"></iframe></center>\n",
        "<center><h3>Vídeo</center>\n",
        "\"\"\")"
      ],
      "outputs": [
        {
          "output_type": "execute_result",
          "execution_count": 1,
          "data": {
            "text/plain": "<IPython.core.display.HTML object>",
            "text/html": "\n<center>\n<iframe src=\"https://drive.google.com/file/d/1LheS5JgeKVOwXvKlDSrc4DqLvUYw2MUR/preview\" width=\"320\" height=\"240\"></iframe></center>\n<center><h3>Vídeo</center>\n"
          },
          "metadata": {}
        }
      ],
      "execution_count": 1,
      "metadata": {
        "collapsed": true,
        "jupyter": {
          "source_hidden": false,
          "outputs_hidden": false
        },
        "nteract": {
          "transient": {
            "deleting": false
          }
        },
        "execution": {
          "iopub.status.busy": "2020-09-14T17:58:45.487Z",
          "iopub.execute_input": "2020-09-14T17:58:45.533Z",
          "iopub.status.idle": "2020-09-14T17:58:45.685Z",
          "shell.execute_reply": "2020-09-14T17:58:45.766Z"
        }
      }
    },
    {
      "cell_type": "markdown",
      "source": [
        "## <center>Los Pilares de la Inteligencia Artificial</center>\n",
        "* Filosofía\n",
        "* Matemáticas\n",
        "* Economía\n",
        "* Neurociencia\n",
        "* Psicología\n",
        "* Ingeniería en computación\n",
        "* Teoría de control y cibernética\n",
        "* Lingüística"
      ],
      "metadata": {
        "nteract": {
          "transient": {
            "deleting": false
          }
        }
      }
    },
    {
      "cell_type": "markdown",
      "source": [
        "### <center>Filosofía</center>\n",
        "\n",
        "* ¿Pueden las reglas formales ser usadas para llegar a conclusiones válidas?\n",
        "* ¿Cómo surge la mente a partir de un cerebro físico?\n",
        "* ¿De dónde viene el conocimiento?\n",
        "* ¿Cómo lleva el conocimiento a la acción?"
      ],
      "metadata": {
        "nteract": {
          "transient": {
            "deleting": false
          }
        }
      }
    },
    {
      "cell_type": "markdown",
      "source": [
        "### <center>Matemáticas</center>\n",
        "\n",
        "* ¿Cuáles son las reglas formales para llegar a conclusiones válidas?\n",
        "* ¿Qué puede ser computado?\n",
        "* ¿Cómo razonamos con información incierta?"
      ],
      "metadata": {
        "nteract": {
          "transient": {
            "deleting": false
          }
        }
      }
    },
    {
      "cell_type": "markdown",
      "source": [
        "### <center>Economía</center>\n",
        "\n",
        "* ¿Cómo deberíamos tomar decisiones para maximizar ganancias?\n",
        "* ¿Cómo debemos hacerlo cuando otros no puedan soportarlo?\n",
        "* ¿Cómo debemos hacerlo cuando la paga puede ser en el futuro lejano?"
      ],
      "metadata": {
        "nteract": {
          "transient": {
            "deleting": false
          }
        }
      }
    },
    {
      "cell_type": "markdown",
      "source": [
        "### <center>Neurociencia</center>\n",
        "\n",
        "* ¿Cómo procesan cerebros? la información los cerebros?"
      ],
      "metadata": {
        "nteract": {
          "transient": {
            "deleting": false
          }
        }
      }
    },
    {
      "cell_type": "markdown",
      "source": [
        "### <center>Ingeniería en Computación</center>\n",
        "\n",
        "* ¿Cómo podemos construir una computadora eficiente?"
      ],
      "metadata": {
        "nteract": {
          "transient": {
            "deleting": false
          }
        }
      }
    },
    {
      "cell_type": "markdown",
      "source": [
        "### <center>Teoría de Control y Cibernética</center>\n",
        "\n",
        "* ¿Cómo pueden los artefactos operar bajo su propio control?"
      ],
      "metadata": {
        "nteract": {
          "transient": {
            "deleting": false
          }
        }
      }
    },
    {
      "cell_type": "markdown",
      "source": [
        "### <center>Lingüística</center>\n",
        "\n",
        "* ¿Cómo se relaciona el lenguaje con el pensamiento?"
      ],
      "metadata": {
        "nteract": {
          "transient": {
            "deleting": false
          }
        }
      }
    },
    {
      "cell_type": "markdown",
      "source": [
        "## <center>Desarrollo de la IA</center>\n",
        "\n",
        "<center><img src = \"media/desarrollo_ia_1.png\" width=75%/></center>"
      ],
      "metadata": {
        "nteract": {
          "transient": {
            "deleting": false
          }
        }
      }
    },
    {
      "cell_type": "markdown",
      "source": [
        "<center><img src = \"media/desarrollo_ia_2.png\" width=75%/></center>"
      ],
      "metadata": {
        "nteract": {
          "transient": {
            "deleting": false
          }
        }
      }
    }
  ],
  "metadata": {
    "kernel_info": {
      "name": "python3"
    },
    "language_info": {
      "name": "python",
      "version": "3.7.3",
      "mimetype": "text/x-python",
      "codemirror_mode": {
        "name": "ipython",
        "version": 3
      },
      "pygments_lexer": "ipython3",
      "nbconvert_exporter": "python",
      "file_extension": ".py"
    },
    "kernelspec": {
      "argv": [
        "python",
        "-m",
        "ipykernel_launcher",
        "-f",
        "{connection_file}"
      ],
      "display_name": "Python 3",
      "language": "python",
      "name": "python3"
    },
    "nteract": {
      "version": "0.25.0"
    }
  },
  "nbformat": 4,
  "nbformat_minor": 0
}