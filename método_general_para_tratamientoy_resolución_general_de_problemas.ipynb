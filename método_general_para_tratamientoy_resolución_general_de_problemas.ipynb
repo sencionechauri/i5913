{
  "cells": [
    {
      "cell_type": "markdown",
      "source": [
        "# <center>Método General para el Tratamiento y Resolución Automáticos de Problemas</center>"
      ],
      "metadata": {
        "nteract": {
          "transient": {
            "deleting": false
          }
        }
      }
    },
    {
      "cell_type": "markdown",
      "source": [
        "## <center>Métodos de Resolución de Problemas</center>\n",
        "\n",
        "Son una serie de modelos típicos de sistemas para ciertas clases de problemas como diagnóstico, planificación, configuración, etc. \n",
        "\n",
        "Dado que dichos modelos generales se basan en la simulación de formas de razonamiento observadas en profesionales, se han denominado con el nombre general de *métodos de resolución de problemas*."
      ],
      "metadata": {
        "nteract": {
          "transient": {
            "deleting": false
          }
        }
      }
    },
    {
      "cell_type": "markdown",
      "source": [
        "## <center>Caracterización de Problemas</center>\n",
        "\n",
        "* Problema: Discrepancia entre un estado actual y un estado objetivo.\n",
        "\n",
        "La resolución de problemas puede especificarse en forma de tareas."
      ],
      "metadata": {
        "nteract": {
          "transient": {
            "deleting": false
          }
        }
      }
    },
    {
      "cell_type": "markdown",
      "source": [
        "## <center>Sistemas Sobre los que se Resuelven Problemas</center>\n",
        "\n",
        "Para describir los problemas de forma abstracta es conveniente contemplar el sistema sobre el cual se resuelve cada problema.\n",
        "\n",
        "Por ejemplo, en diagnóstico médico el sistema de referencia es el paciente.\n",
        "\n",
        "En un problema de diseño arquitectónico, el sistema de referencia es el edificio a construir."
      ],
      "metadata": {
        "nteract": {
          "transient": {
            "deleting": false
          }
        }
      }
    },
    {
      "cell_type": "markdown",
      "source": [
        "Tipos de Sistemas | Características\n",
        "--- | ---\n",
        "Sistema simple | Se describe con un conjunto de parámetros en donde cada uno expresa una característica del mismo sistema. Por ejemplo: Herramienta de desarrollo informático, Tarjeta de crédito. \n",
        "Sistema estático | Sus características no varían en el tiempo.\n",
        "Sistema dinámico | Sus características varían en el tiempo. Por ejemplo: Población de un país, La bolsa de valores.\n",
        "Sistema de recursos | Dispone de un conjunto de recursos Por ejemplo: camas hospitalarias, Zonas de estacionamiento, Servicios de guardias.\n",
        "Sistema de componentes | Está formado por un conjunto de componentes que forman una estructura. Por ejemplo: Distribución de habitaciones en planta de un edificio, Composición musical.\n",
        "Sistema de componentes dinámicos | Formado por componentes que varían en el tiempo. Por ejemplo: Motor de gasolina, Planta térmica."
      ],
      "metadata": {
        "nteract": {
          "transient": {
            "deleting": false
          }
        }
      }
    },
    {
      "cell_type": "markdown",
      "source": [
        "Para describir los sistemas se utiliza una serie de términos generales comúnmente aceptados.\n",
        "\n",
        "Término | Descripción\n",
        "--- | ---\n",
        "Observaciones | Mediciones y características que pueden ser percibidas por un observador externo.\n",
        "Síntomas o desviaciones | Observaciones que indican anormalidad o comportamiento no deseado.\n",
        "Causas | Dan explicación a los síntomas. Las causas pueden ser averías.\n",
        "Comportamiento | Se presenta en los sistemas dinámicos.\n",
        "Estados | Describen el comportamiento de un sistema dinámico a lo largo del tiempo.\n",
        "Pronóstico | Comportamiento futuro.\n",
        "Funciones | Los sistemas tienen funciones para las que fueron diseñados.\n",
        "Requisitos y preferencias | Un observador externo puede desear que se fabrique un determinado tipo de sistema, para ello expresa requisitos sobre sus funciones y preferencias.\n",
        "Recursos | Elementos de los cuales se puede disponer para construir el sistema.\n",
        "Necesidades | Necesidades de utilización de recursos.\n",
        "Acciones | Pueden modificar el comportamiento de un sistema dinámico.\n",
        "Acciones externas | Ajenas al control ejercido por los responsables de la gestión.\n",
        "Acciones de control | Realizadas por los responsables de la gestión y no modifican la estructura del sistema.\n",
        "Acciones de reparación | Modifican la estructura del sistema.\n",
        "Plan | Conjunto de acciones que tiene como fin alcanzar determinados objetivos.\n",
        "Objetivos | Se pueden expresar como acciones generales que se pretendan realizar, condiciones que deban cumplirse, estados que se pretendan alcanzar o síntomas y causas que se pretendan eliminar."
      ],
      "metadata": {
        "nteract": {
          "transient": {
            "deleting": false
          }
        }
      }
    },
    {
      "cell_type": "markdown",
      "source": [
        "### Ejemplo: Clasificación y Descripción de un sistema\n",
        "\n",
        "#### Paciente. \n",
        "\n",
        "En el dominio de medicina, el sistema que puede considerarse como referencia es el paciente entendido como un sistema *dinámico*. El comportamiento del paciente corresponde a la evolución reciente de ciertos valores como la temperatura, peso, etc. además del historial clínico. Los *síntomas* son estados del paciente no deseados tales como dolor de cabeza, temperatura = 40, recuento de leucocitos = 2300. Dichos síntomas se explican mediante enfermedades (*causas*) por ejemplo diabetes, infección bacteriana, infección por sars-cov 2, etc. El *pronóstico* indica la predicción de la evolución (buen pronóstico, grave,\n",
        "reservado, etc.). Las *acciones de control* corresponden a tratamientos formados por el suministro de medicinas, dietas, terapias, etc. Las *acciones externas* corresponden a acciones relacionadas con el medio en donde reside el paciente (trabajo con estrés, contaminación en ciudad, alimentación alta en calorías, fumador, etc.)."
      ],
      "metadata": {
        "nteract": {
          "transient": {
            "deleting": false
          }
        }
      }
    }
  ],
  "metadata": {
    "kernel_info": {
      "name": "python3"
    },
    "language_info": {
      "name": "python",
      "version": "3.7.3",
      "mimetype": "text/x-python",
      "codemirror_mode": {
        "name": "ipython",
        "version": 3
      },
      "pygments_lexer": "ipython3",
      "nbconvert_exporter": "python",
      "file_extension": ".py"
    },
    "kernelspec": {
      "argv": [
        "python",
        "-m",
        "ipykernel_launcher",
        "-f",
        "{connection_file}"
      ],
      "display_name": "Python 3",
      "language": "python",
      "name": "python3"
    },
    "nteract": {
      "version": "0.25.0"
    }
  },
  "nbformat": 4,
  "nbformat_minor": 0
}