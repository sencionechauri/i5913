{
  "cells": [
    {
      "cell_type": "markdown",
      "source": [
        "# <center>Cálculo de Predicados</center>"
      ],
      "metadata": {
        "nteract": {
          "transient": {
            "deleting": false
          }
        }
      }
    },
    {
      "cell_type": "markdown",
      "source": [
        "Una forma de representar conocimiento es por medio de la lógica proposicional, sin embargo este tipo de lógica está limitada debido a que no puede representar conocimiento dentro del cual existan valores cuantificados, es decir, no podemos crear proposiciones que consideren a *todos* los objetos de cierta clase o sólo a *algunos* de ellos.\n",
        "\n",
        "Para solventar esas carencias es que surge la lógica proposicional, también conocido como lógica de primer orden.\n",
        "\n",
        "Es una extensión de la lógica proposicional.\n",
        "\n",
        "Existen términos definidos como constantes y variables.\n",
        "\n",
        "Contiene cuantificadores universales ($\\forall$) o existenciales ($\\exists$)."
      ],
      "metadata": {
        "nteract": {
          "transient": {
            "deleting": false
          }
        }
      }
    },
    {
      "cell_type": "markdown",
      "source": [
        "### Fórmulas Bien Formadas\n",
        "El lenguaje del cáculo de predicados está definido por su sintáxis.\n",
        "\n",
        "Las expresiones correctas del cálculo de predicados se llaman Fórmulas Bien Formadas (*Well Formed- Formulas en inglés*)."
      ],
      "metadata": {
        "nteract": {
          "transient": {
            "deleting": false
          }
        }
      }
    },
    {
      "cell_type": "markdown",
      "source": [
        "### Sintáxis y Semántica\n",
        "\n",
        "Los componentes elementales de este lenguaje son símbolos de:\n",
        "\n",
        "* Predicados\n",
        "* Variables\n",
        "* Funciones\n",
        "* Constantes\n",
        "* Conectores\n",
        "* Cuantificadores"
      ],
      "metadata": {
        "nteract": {
          "transient": {
            "deleting": false
          }
        }
      }
    },
    {
      "cell_type": "markdown",
      "source": [
        "### Predicados\n",
        "Un símbolo predicativo o predicado se utiliza para representar una relación en un dominio, por medio de lo cual se pueden crear Fórmulas Atómicas.\n",
        "\n",
        "\n",
        "Ejemplos:\n",
        "\n",
        "es_hombre(socrates)\n",
        "\n",
        "es_tipo_de(manzana, fruta)\n",
        "\n",
        "escribir(w_james, pragmatismo)\n",
        "\n",
        "\n",
        "*Las relaciones suelen escribirse como verbos.*"
      ],
      "metadata": {
        "nteract": {
          "transient": {
            "deleting": false
          }
        }
      }
    },
    {
      "cell_type": "markdown",
      "source": [
        "### Variables\n",
        "\n",
        "Los símbolos variables como $X$ o $Y$ también son términos y permiten dejar indefinido el objeto de la relación.\n",
        "\n",
        "\n",
        "Por ejemplo en:\n",
        "\n",
        "escribir($X$,$Y$)\n",
        "\n",
        "\n",
        "Tanto $X$ como $Y$ se consideran variables."
      ],
      "metadata": {
        "nteract": {
          "transient": {
            "deleting": false
          }
        }
      }
    },
    {
      "cell_type": "markdown",
      "source": [
        "### Constantes\n",
        "En general las fórmulas atómicas se componen de símbolos, predicados y términos.\n",
        "\n",
        "Un símbolo constante es el término más sencillo y se utiliza para representar objetos del dominio.\n",
        "\n",
        "\n",
        "Ejemplos:\n",
        "\n",
        "es_hombre(socrates)\n",
        "\n",
        "escribir(w_james, pragmatismo)\n",
        "\n",
        "En los casos anteriores socrates, w_james y  pragmatismo son constantes. \n",
        "\n",
        "Las constantes se escriben con minúsculas."
      ],
      "metadata": {
        "nteract": {
          "transient": {
            "deleting": false
          }
        }
      }
    },
    {
      "cell_type": "markdown",
      "source": [
        "### Funciones\n",
        "Los símbolos de funciones generan un mapeo entre los objetos involucrados.\n",
        "\n",
        "\n",
        "Por ejemplo:\n",
        "\n",
        "padre(juan)\n",
        "\n",
        "madre(juan)\n",
        "\n",
        "mejor_amigo(juan)\n",
        "\n",
        "\n",
        "*Las funciones retornan objetos*.\n",
        "\n",
        "\n",
        "Es común tener distintas alternativas para representar oraciones del lenguaje natural en fórmulas atómicas.\n",
        "\n",
        "\n",
        "Por ejemplo:\n",
        "\n",
        "amargo(chocolate)\n",
        "\n",
        "sabor(chocolate, amargo)\n",
        "\n",
        "caracteristica(sabor, chocolate, amargo)"
      ],
      "metadata": {
        "nteract": {
          "transient": {
            "deleting": false
          }
        }
      }
    },
    {
      "cell_type": "markdown",
      "source": [
        "### Conectores\n",
        "\n",
        "$\\land$ Conjunción\n",
        "\n",
        "$\\lor$ Disyunción\n",
        "\n",
        "$\\lnot$ Negación\n",
        "\n",
        "$\\Rightarrow$ Implicación\n",
        "\n",
        "$\\iff$ Doble Implicación\n"
      ],
      "metadata": {
        "nteract": {
          "transient": {
            "deleting": false
          }
        }
      }
    },
    {
      "cell_type": "markdown",
      "source": [
        "### Cuantificadores\n",
        "\n",
        "$\\forall$    Universal : \"Para todo\"\n",
        "\n",
        "$\\forall X$ (es_hombre($X$), es_mortal($X$))\n",
        "\n",
        "$\\forall X$ rey($X$) $\\land$ codicioso($X$) $\\Rightarrow$ malvado($X$)\n",
        "\t\t \n",
        "$\\forall X$ elefante($X$) $\\Rightarrow$ color($X$, gris)\n",
        "\n",
        "<br>\n",
        "\n",
        "\n",
        "$\\exists$     Existencial : \"Existe Algún\"\n",
        "       \n",
        "$\\exists X$  es_madre($X$, laura)\n",
        "       \n",
        "$\\exists X$  escribir($X$, la_divina_comedia)"
      ],
      "metadata": {
        "nteract": {
          "transient": {
            "deleting": false
          }
        }
      }
    },
    {
      "cell_type": "markdown",
      "source": [
        "### Ejemplos\n",
        "\n",
        "Frases en lenguaje natural convertidas a cálculo de predicados\n",
        "\n",
        "1. \"Todos los mexicanos tienen cuando menos un pariene en USA.\"\n",
        "\n",
        "Base relacional:\n",
        "\n",
        "mex($X$): $X$ es mexicano.\n",
        "\n",
        "vive_usa($X$): $X$ vive en estados unidos.\n",
        "\n",
        "pariente($X$,$Y$): $X$ es pariente de $Y$.\n",
        "\n",
        "<br>\n",
        "\n",
        "\n",
        "$\\forall X \\exists Y$ (vive_usa($Y$) $\\land$ pariente($X$,$Y$) $\\Rightarrow$ mex($X$))\n",
        "\n",
        "<br>\n",
        "\n",
        "\n",
        "2. \"Cada ciudad tiene un perrero que ha sido mordido por todos los perros de la ciudad.\"\n",
        "\n",
        "Base relacional:\n",
        "\n",
        "ciudad($X$): $X$ es una ciudad.\n",
        "\n",
        "perrero($X$,$Y$): $Y$ es un perrero en $X$.\n",
        "\n",
        "perro($Z$): $Z$ es un perro.\n",
        "\n",
        "vive_en($X$,$Z$): $Z$ vive en $X$.\n",
        "\n",
        "mordido($Y$,$Z$): $Y$ ha sido mordido por $Z$.\n",
        "\n",
        "\n",
        "<br>\n",
        "\n",
        "\n",
        "$\\forall X$ {ciudad($X$) $\\Rightarrow$ $\\exists Y$ {perrero($X$,$Y$) $\\land$ $\\forall Z$ {\\[perro($Z$) $\\land$ vive_en($X$,$Z$)\\] $\\Rightarrow$ mordido($Y$,$Z$)}}}\n",
        "\n",
        "<br>\n",
        "\n",
        "3. \"Todos los bloques que están sobre bloques que han sido movidos, o que están pegados a bloques que han sido movidos, también han sido movidos.\"\n",
        "\n",
        "Base relacional:\n",
        "\n",
        "bloque($X$): $X$ es un bloque.\n",
        "\n",
        "sobre($X$,$Y$): $X$ está sobre $Y$.\n",
        "\n",
        "pegado($X$,$Y$): $X$ y $Y$ están pegados.\n",
        "\n",
        "movido($X$): $X$ ha sido movido.\n",
        "\n",
        "<br>\n",
        "\n",
        "$\\forall X \\forall Y$ {bloque($X$) $\\land$ bloque($Y$) $\\land$ \\[sobre($X$,$Y$) $\\lor$ pegado($X$,$Y$)\\] $\\land$ movido($Y$) $\\Rightarrow$ movido($X$)}\n",
        "\n",
        "<br>\n",
        "\n",
        "4. \"No existen aves que no sepan volar.\"\n",
        "\n",
        "Base relacional:\n",
        "\n",
        "ave($X$): $X$ es un ave.\n",
        "\n",
        "vuela($X$): $X$ vuela.\n",
        "\n",
        "<br>\n",
        "\n",
        "$\\lnot\\exists X$ (ave($X$) $\\land$ $\\lnot$vuela($X$))"
      ],
      "metadata": {
        "nteract": {
          "transient": {
            "deleting": false
          }
        }
      }
    }
  ],
  "metadata": {
    "kernel_info": {
      "name": "python3"
    },
    "language_info": {
      "name": "python",
      "version": "3.7.3",
      "mimetype": "text/x-python",
      "codemirror_mode": {
        "name": "ipython",
        "version": 3
      },
      "pygments_lexer": "ipython3",
      "nbconvert_exporter": "python",
      "file_extension": ".py"
    },
    "kernelspec": {
      "argv": [
        "python",
        "-m",
        "ipykernel_launcher",
        "-f",
        "{connection_file}"
      ],
      "display_name": "Python 3",
      "language": "python",
      "name": "python3"
    },
    "nteract": {
      "version": "0.25.1"
    }
  },
  "nbformat": 4,
  "nbformat_minor": 0
}