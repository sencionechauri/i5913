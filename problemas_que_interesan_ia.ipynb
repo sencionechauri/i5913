{
  "cells": [
    {
      "cell_type": "markdown",
      "source": [
        "# <center>Problemas que Interesan a la Inteligencia Artificial</center>"
      ],
      "metadata": {
        "nteract": {
          "transient": {
            "deleting": false
          }
        }
      }
    },
    {
      "cell_type": "markdown",
      "source": [
        "## <center>¿Qué es un problema?</center>\n",
        "\n",
        "Puede entenderse como un desafío que demanda fuerza, agilidad o destreza para ser enfrentado.\n",
        "\n",
        "Tales desafíos tienen una carga subjetiva y dependen del contexto, es decir, distintas personas perciben de diferente manera su entorno y pueden interpretar distintas situaciones como problemáticas o no."
      ],
      "metadata": {
        "nteract": {
          "transient": {
            "deleting": false
          }
        }
      }
    },
    {
      "cell_type": "markdown",
      "source": [
        "## <center>Formulación y Tratamiento</center>\n",
        "\n",
        "Para poder lidiar de forma satisfactoria con aquello que se considere un problema podemos tomar un acercamiento en etapas. Se sugiere:\n",
        "\n",
        "* Analizar y descomponer el problema. Debemos tratar de asilar las componentes del problema y tratar de resolverlas por separado, si es posible.\n",
        "* Describir el problema en terminos del conocimiento disponible. Historicamente la ciencia ha recurrido a esta estrategia en la cual describe problemas o situaciones con el conocmiento presente pra tratar de dar sentido a lo que se percibe.\n",
        "* Refinar de manera **recursiva** hasta obtener una **solución aceptable**. Debemos repetir el proceso hasta llegar a una solución o explicación de la realidad que sea consistente con el conocimiento que se posee."
      ],
      "metadata": {
        "nteract": {
          "transient": {
            "deleting": false
          }
        }
      }
    },
    {
      "cell_type": "markdown",
      "source": [
        "### ¿Qué es una solución aceptable?\n",
        "\n",
        "Hablar de una solución aceptable es hablar de subjetividad. Lo que para una persona o comunidad resulta aceptable en cierto contexto puede no serlo para otra persona o comunidad. \n",
        "\n",
        "Una solución aceptable será aquella que brinde un grado de satisfacción suficiente como para considerar al problema de poca relevancia en el contexto en que se presente."
      ],
      "metadata": {
        "nteract": {
          "transient": {
            "deleting": false
          }
        }
      }
    },
    {
      "cell_type": "markdown",
      "source": [
        "Los problemas suelen componerse de:\n",
        "\n",
        "* Un estado inicial.\n",
        "* Los estados posibles (espacio de estados).\n",
        "* Acciones que pueden emprenderse."
      ],
      "metadata": {
        "nteract": {
          "transient": {
            "deleting": false
          }
        }
      }
    },
    {
      "cell_type": "markdown",
      "source": [
        "Se dice que una trayectoria es una secuencia de acciones que producen cambios en el estado del problema.\n",
        "\n",
        "Como parte del proceso de evaluación de la problemática debe existir algún mecanismo que permita evaluar la solución propuesta. Se debe evaluar la *prueba meta* vs el *estado actual*. \n",
        "\n",
        "En ese sentido, un algoritmo inteligente se encargará de generar la trayectoria desde el estado inicial hasta el estado que satisfaga la prueba meta y deberá existir una **función de costo** que permita evaluar distintas posibles soluciones de forma tal que podamos seleccionar la mejor de ellas."
      ],
      "metadata": {
        "nteract": {
          "transient": {
            "deleting": false
          }
        }
      }
    },
    {
      "cell_type": "markdown",
      "source": [
        "### Ejemplo: Diagrama Espacio de Estados\n",
        "\n",
        "El siguiente diagrama muestra el espacio de estados para el problema clásico del mono que necesita tomar bananas que están colgando del techo de una habitación.\n",
        "\n",
        "\n",
        "<center><img src=\"media/estado_espacio.png\" /></center>"
      ],
      "metadata": {
        "nteract": {
          "transient": {
            "deleting": false
          }
        }
      }
    },
    {
      "cell_type": "markdown",
      "source": [
        "## <center>Problemas Interesantes a la Inteligencia Artificial</center>\n",
        "\n",
        "### Características\n",
        "\n",
        "* Problemas complejos para los que el cómputo convencional no ha ofrecido solución.\n",
        "* El conocimiento asociable al problema es elevado en volumen y/o complejidad.\n",
        "* Incluye diversas restricciones.\n",
        "* Los estados asociables a la problemática son difíciles de gestionar.\n",
        "* Las acciones posibles a implementar son difíciles."
      ],
      "metadata": {
        "nteract": {
          "transient": {
            "deleting": false
          }
        }
      }
    },
    {
      "cell_type": "markdown",
      "source": [
        "### Áreas</center>\n",
        "\n",
        "* Medicina\n",
        "* Servicios financieros\n",
        "* Detección de fraude\n",
        "* Seguros\n",
        "* Procedimientos legales\n",
        "* Agricultura\n",
        "* Ciencias de la tierra\n",
        "* Transporte y envío\n",
        "* Electrónica y telecomunicaciones\n",
        "* Ventas y publicidad\n",
        "* Minería\n",
        "* Estimación de costos en construcción\n",
        "* Manejo de energía (gas y petróleo)\n",
        "* Robótica\n",
        "* Reconocimiento de patrones\n",
        "* Visión por computadora\n",
        "* Etc..."
      ],
      "metadata": {
        "nteract": {
          "transient": {
            "deleting": false
          }
        }
      }
    },
    {
      "cell_type": "markdown",
      "source": [
        "### Un método para tratar problemas complejos</center>\n",
        "\n",
        "1. Detectar variables asociables a la problemática.\n",
        "2. Detectar las más importantes.\n",
        "3. Definir rangos discretos para las variables elegidas.\n",
        "4. Combinar valores de las variables usando producto cartesiano.\n",
        "5. Eliminar combinaciones que no representen aspectos reales de la problemática.\n",
        "6. Determinar acciones posibles para el agente inteligente.\n",
        "7. Configurar un grafo que modele la transferencia de estados por medio de la\n",
        "realización de acciones.\n",
        "8. Definir costsos par acada acción y métodos de evaluación."
      ],
      "metadata": {
        "nteract": {
          "transient": {
            "deleting": false
          }
        }
      }
    },
    {
      "cell_type": "markdown",
      "source": [
        "### <center>Gracias</center>\n",
        "                          \n",
        "<center>                          \n",
        "Basado en la presentación:<br>\n",
        "“Tratamiento de problemáticas usando I.A.”<br>\n",
        "Realizada por el Dr. Luis Alberto Casillas Santillán.\n",
        "</center>"
      ],
      "metadata": {
        "nteract": {
          "transient": {
            "deleting": false
          }
        }
      }
    }
  ],
  "metadata": {
    "kernel_info": {
      "name": "python3"
    },
    "language_info": {
      "name": "python",
      "version": "3.7.3",
      "mimetype": "text/x-python",
      "codemirror_mode": {
        "name": "ipython",
        "version": 3
      },
      "pygments_lexer": "ipython3",
      "nbconvert_exporter": "python",
      "file_extension": ".py"
    },
    "kernelspec": {
      "argv": [
        "python",
        "-m",
        "ipykernel_launcher",
        "-f",
        "{connection_file}"
      ],
      "display_name": "Python 3",
      "language": "python",
      "name": "python3"
    },
    "nteract": {
      "version": "0.25.0"
    }
  },
  "nbformat": 4,
  "nbformat_minor": 0
}