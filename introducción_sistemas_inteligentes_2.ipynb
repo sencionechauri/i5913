{
  "cells": [
    {
      "cell_type": "markdown",
      "source": [
        "# <center>Introducción a los Sistemas Inteligentes (Continuación)</center>"
      ],
      "metadata": {
        "nteract": {
          "transient": {
            "deleting": false
          }
        }
      }
    },
    {
      "cell_type": "markdown",
      "source": [
        "## <center>Ventajas de los Sistemas Basados en Conocimiento</center>\n",
        "\n",
        "* Alta disponibilidad\n",
        "* Costo reducido\n",
        "* Peligro reducido\n",
        "* Permanencia\n",
        "* Múltiple conocimiento experto\n",
        "* Alta confiabilidad\n",
        "* Explicación\n",
        "* Pronta respuesta\n",
        "* Respuesta completa, sin emociones y estable\n",
        "* Tutor inteligente"
      ],
      "metadata": {
        "nteract": {
          "transient": {
            "deleting": false
          }
        }
      }
    },
    {
      "cell_type": "code",
      "source": [
        "from IPython.display import HTML\n",
        "\n",
        "HTML(\"\"\"\n",
        "<center>\n",
        "<iframe src=\"https://drive.google.com/file/d/1A_2FW4XS5Mb3jHZC27l0BwfI3O0qXwXV/preview\" width=\"320\" height=\"240\"></iframe></center>\n",
        "<center><h3>Vídeo</center>\n",
        "\"\"\")"
      ],
      "outputs": [
        {
          "output_type": "execute_result",
          "execution_count": 1,
          "data": {
            "text/plain": "<IPython.core.display.HTML object>",
            "text/html": "\n<center>\n<iframe src=\"https://drive.google.com/file/d/1A_2FW4XS5Mb3jHZC27l0BwfI3O0qXwXV/preview\" width=\"320\" height=\"240\"></iframe></center>\n<center><h3>Vídeo</center>\n"
          },
          "metadata": {}
        }
      ],
      "execution_count": 1,
      "metadata": {
        "collapsed": true,
        "jupyter": {
          "source_hidden": false,
          "outputs_hidden": false
        },
        "nteract": {
          "transient": {
            "deleting": false
          }
        },
        "execution": {
          "iopub.status.busy": "2020-09-18T12:36:12.894Z",
          "iopub.execute_input": "2020-09-18T12:36:12.920Z",
          "iopub.status.idle": "2020-09-18T12:36:12.985Z",
          "shell.execute_reply": "2020-09-18T12:36:13.068Z"
        }
      }
    },
    {
      "cell_type": "markdown",
      "source": [
        "## <center>Conceptos Generales</center>\n",
        "\n",
        "Un método común para representar el conocimiento es en la forma de reglas tipo **SI** . . . **ENTONCES**.\n",
        "\n",
        "Tales como **SI** la luz es roja **ENTONCES** detenerse"
      ],
      "metadata": {
        "nteract": {
          "transient": {
            "deleting": false
          }
        }
      }
    },
    {
      "cell_type": "markdown",
      "source": [
        "## <center>Ingeniería de Conocimiento</center>\n",
        "\n",
        "El proceso de construir un sistema basado en conocimiento es llamado **ingeniería de conocimiento** y a la persona encargada de modelar dicho conocimiento de manera tal que sea tratable por un sistema de cómputo es llamado **ingeniero de conocimiento**."
      ],
      "metadata": {
        "nteract": {
          "transient": {
            "deleting": false
          }
        }
      }
    },
    {
      "cell_type": "markdown",
      "source": [
        "## <center>Desarrollo de un Sistemas basado en Conocimiento</center>\n",
        "\n",
        "<center><img src=\"media/desarrollo_sbc.png\" width=75% /></center>"
      ],
      "metadata": {
        "nteract": {
          "transient": {
            "deleting": false
          }
        }
      }
    },
    {
      "cell_type": "markdown",
      "source": [
        "## <center>Características de un Sistema Basado en Conocimiento</center>\n",
        "\n",
        "* Alto desempeño\n",
        "* Tiempo de respuesta adecuado\n",
        "* Confiabilidad\n",
        "* Entendible\n",
        "* Flexibilidad"
      ],
      "metadata": {
        "nteract": {
          "transient": {
            "deleting": false
          }
        }
      }
    },
    {
      "cell_type": "markdown",
      "source": [
        "Sistemas más elaborados podrían hacer lo siguiente:\n",
        "* Listar todas las razones a favor y en contra de una hipótesis particular.\n",
        "* Listar todas las hipótesis que puedan explicar la evidencia observada.\n",
        "* Explicar las consecuencias de una hipótesis.\n",
        "* Dar predicción de qué puede suceder si la hipótesis es verdadera."
      ],
      "metadata": {
        "nteract": {
          "transient": {
            "deleting": false
          }
        }
      }
    },
    {
      "cell_type": "markdown",
      "source": [
        "## <center>Dominios Adecuados para un SBC</center>\n",
        "\n",
        "Factor | Respuesta | ¿Construir un SBC?\n",
        "--- | --- | ---\n",
        "¿El problema puede ser resuelto efectivamente por la programación convencional? | ![sí](media/si.png \"Sí\") | ![no](media/no.png \"No\")\n",
        "¿El dominio está bien acotado? | ![no](media/no.png \"No\") | ![no](media/no.png \"No\")\n",
        "¿Hay necesidad y deseo por un SBC? | ![no](media/no.png \"No\") | ![no](media/no.png \"No\")\n",
        "¿Hay al menos un experto humano dispuesto a cooperar?  | ![no](media/no.png \"No\") | ![no](media/no.png \"No\")\n",
        "¿Puede el experto explicar el conocimiento de manera que sea entendible por el ingeniero de conocimiento? | ![sí](media/si.png \"Sí\") | ![sí](media/si.png \"Sí\")\n",
        "¿El conocimiento para resolver el problema es principalmente heurístico e incierto? | ![sí](media/si.png \"Sí\") | ![sí](media/si.png \"Sí\")\n"
      ],
      "metadata": {
        "nteract": {
          "transient": {
            "deleting": false
          }
        }
      }
    },
    {
      "cell_type": "markdown",
      "source": [],
      "metadata": {
        "nteract": {
          "transient": {
            "deleting": false
          }
        }
      }
    }
  ],
  "metadata": {
    "kernel_info": {
      "name": "python3"
    },
    "language_info": {
      "name": "python",
      "version": "3.7.3",
      "mimetype": "text/x-python",
      "codemirror_mode": {
        "name": "ipython",
        "version": 3
      },
      "pygments_lexer": "ipython3",
      "nbconvert_exporter": "python",
      "file_extension": ".py"
    },
    "kernelspec": {
      "argv": [
        "python",
        "-m",
        "ipykernel_launcher",
        "-f",
        "{connection_file}"
      ],
      "display_name": "Python 3",
      "language": "python",
      "name": "python3"
    },
    "nteract": {
      "version": "0.25.0"
    }
  },
  "nbformat": 4,
  "nbformat_minor": 0
}