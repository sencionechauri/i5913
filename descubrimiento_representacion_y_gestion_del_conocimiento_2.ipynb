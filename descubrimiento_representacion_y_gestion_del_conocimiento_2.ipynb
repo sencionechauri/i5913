{
  "cells": [
    {
      "cell_type": "markdown",
      "source": [
        "# <center>Descubrimiento, representación y gestión del conocimiento (parte 2)</center>"
      ],
      "metadata": {
        "nteract": {
          "transient": {
            "deleting": false
          }
        }
      }
    },
    {
      "cell_type": "markdown",
      "source": [
        "## <center>Representación del conocimiento</center>\n",
        "\n",
        "Se han desarrollado diversas técnicas de representación del conocimiento. Éstas incluyen:\n",
        "\n",
        "* Reglas\n",
        "* Producciones\n",
        "* Redes semánticas\n",
        "* Marcos\n",
        "* Scripts\n",
        "* Lógica\n",
        "* Grafos conceptuales"
      ],
      "metadata": {
        "nteract": {
          "transient": {
            "deleting": false
          }
        }
      }
    },
    {
      "cell_type": "markdown",
      "source": [
        "### Reglas\n",
        "\n",
        "Una forma bastante sencilla e intuitiva para representar conocimiento es a través del uso de reglas. Cada regla representa un conjunto de condiciones que deben ser satisfecchas para que pueda suceder un evento o presentarse una respuesta.\n",
        "\n",
        "Las reglas suelen tener el formato: \n",
        "\n",
        "si *condición* entonces *acciones*"
      ],
      "metadata": {
        "nteract": {
          "transient": {
            "deleting": false
          }
        }
      }
    },
    {
      "cell_type": "markdown",
      "source": [
        "La gran mayoría de los lenguajes de programación tienen mecanismos integrados que permiten la definición de reglas como la descrita anteriormente.\n",
        "\n",
        "Para sistemas que necesiten modelar un volumen de conocimiento reducido pudiera bastar con un conjunto de reglas bien estructuradas para entregar resultados satisfactorios.\n",
        "\n",
        "El conocimiento subyacente para algunos casos sencillos de diagnóstico y clasificación puede modelado con reglas concretas y mutuamente excluyentes."
      ],
      "metadata": {
        "nteract": {
          "transient": {
            "deleting": false
          }
        }
      }
    },
    {
      "cell_type": "markdown",
      "source": [
        "### Producciones\n",
        "\n",
        "Una notación formal para definir producciones es la forma Backus Naur (BNF). \n",
        "\n",
        "Esta notación es un metalenguaje para definir la sintáxis de un lenguaje.\n",
        "\n",
        "Por sintáxis entendemos la forma del lenguaje mientras que la semántica se refiere al significado."
      ],
      "metadata": {
        "nteract": {
          "transient": {
            "deleting": false
          }
        }
      }
    },
    {
      "cell_type": "markdown",
      "source": [
        "La notación BNF para una regla sencilla del lenguaje español que indica que una sentencia se forma de sujeto y verbo es la siguiente.\n",
        "\n",
        "\n",
        "< sentencia > ::= < sujeto > < verbo >.\n",
        "\n",
        "\n",
        "Por ejemplo:\n",
        "\n",
        "< sentencia > ::= < sujeto > < verbo >.\n",
        "\n",
        "< sujeto > ::= yo | tú | él | ella\n",
        "\n",
        "< verbo > ::= camino | camina | caminas\n",
        "\n",
        "Con las reglas descritas se pueden producir las siguientes frases:\n",
        "\n",
        "* yo camino.\n",
        "* yo camina.\n",
        "* yo caminas.\n",
        "* tú camino.\n",
        "* tú camina.\n",
        "* tú caminas.\n",
        "* él camino.\n",
        "* él camina.\n",
        "* él caminas.\n",
        "* ella camino.\n",
        "* ella camina.\n",
        "* ella caminas.\n",
        "\n",
        "Resulta evidente que no todas las producciones resultantes tienen sentido, es decir, semánticamente no son válidas aunque sintácticamente lo sean."
      ],
      "metadata": {
        "nteract": {
          "transient": {
            "deleting": false
          }
        }
      }
    },
    {
      "cell_type": "markdown",
      "source": [
        "### Redes Semánticas\n",
        "\n",
        "Una red semántica es una técnica clásica de representación de Inteligencia Artificial utilizada para información proposicional.\n",
        "\n",
        "Una proposición es un postulado que es verdadero o falso.\n",
        "\n",
        "En terminos matemáticos una red semántica es un grafo dirigido etiquetado."
      ],
      "metadata": {
        "nteract": {
          "transient": {
            "deleting": false
          }
        }
      }
    },
    {
      "cell_type": "markdown",
      "source": [
        "<center>Red semántica</center>\n",
        "<center><img src=\"media/red_semantica.png\" width=50%/></center>\n",
        "<br>\n",
        "\n",
        "\n",
        "<center>Red semántica con enlaces \"es un\"/\"tipo de\"</center>\n",
        "<center><img src=\"media/red_semantica_2.png\" width=40%/></center>"
      ],
      "metadata": {
        "nteract": {
          "transient": {
            "deleting": false
          }
        }
      }
    },
    {
      "cell_type": "markdown",
      "source": [
        "### Tripletas Objeto-Atributo-Valor\n",
        "\n",
        "Una tripleta Objeto-Atributo-Valor (OAV) puede ser utilizada para caracterizar todo el conocimiento en una red semántica.\n",
        "\n",
        "Una red semántica puede ser descrita con tripletas Objeto-Atributo-Valor en la cual los nodos son representados por los objetos, atributos y valores conectados por enlaces tipo \"es un\"/\"tipo de\".\n",
        "\n",
        "A coninuación se muestra una tabla OAV.\n",
        "\n",
        "Objeto | Atributo | Valor\n",
        "--- | --- |\n",
        "manzana | color | roja\n",
        "manzana | tipo | gala\n",
        "manzana | cantidad | 70\n",
        "uva | color | roja\n",
        "uva | tipo | sin semilla\n",
        "uva | cantidad | 200"
      ],
      "metadata": {
        "nteract": {
          "transient": {
            "deleting": false
          }
        }
      }
    },
    {
      "cell_type": "markdown",
      "source": [
        "### Marcos\n",
        "\n",
        "Propuestos como un método para entender visión, lenguaje natural y otras áreas, los marcos proveen una estructura conveniente para representar objetos típicos para una situación dada.\n",
        "\n",
        "En particular los marcos son útiles para simular sentido común, lo cual es muy complicado para las computadoras.\n",
        "\n",
        "Un marco es análogo a un registro en un lenguaje de programación de alto nivel como C. Dentro de un marco los **slots** y **fillers** corresponden a los campos y valores de un registro.\n",
        "\n",
        "Un marco es básicamente un grupo de *slots* y *fillers* que definen a un objeto común."
      ],
      "metadata": {
        "nteract": {
          "transient": {
            "deleting": false
          }
        }
      }
    },
    {
      "cell_type": "markdown",
      "source": [
        "<center>Ejemplo de un marco</center>\n",
        "\n",
        "\n",
        "Slots | Fillers\n",
        "--- | ---\n",
        "Armadora | General Motors\n",
        "Modelo | Chevrolet Caprice\n",
        "Año | 1979\n",
        "Transmisión | automática\n",
        "Motor | gasolina\n",
        "Llantas | 4\n",
        "Color | azúl"
      ],
      "metadata": {
        "nteract": {
          "transient": {
            "deleting": false
          }
        }
      }
    },
    {
      "cell_type": "markdown",
      "source": [
        "Una de las principales desventajas de usar marcos, es que trabajan con la definición típica de alguna entidad, lo cual puede ser bastante restrictivo debido a que los casos especiales serán excluídos de dicha definición.\n",
        "\n",
        "Si a un automóvil le roban una llanta o por alguna razón no tiene alguna ¿Deja de ser un automóvil?"
      ],
      "metadata": {
        "nteract": {
          "transient": {
            "deleting": false
          }
        }
      }
    },
    {
      "cell_type": "markdown",
      "source": [
        "### Lógica y Conjuntos\n",
        "\n",
        "Además de reglas, marcos y redes semánticas, el conocimiento también puede ser representado por símbolos de lógica, que es el estudio de reglas del razonamiento exácto.\n",
        "\n",
        "La primer lógica formal fue desarrollada por el filósofo griego Aristóteles en el sigo 4 A.C.\n",
        "\n",
        "La lógica aristotélica está basada en el silogismo que debe tener dos premisas y una conclusión, por ejemplo:\n",
        "\n",
        "\n",
        "Premisa: Todos los hombres son mortales.\n",
        "\n",
        "Premisa: Sócrates es un hombre.\n",
        "\n",
        "Conclusión: Sócrates es mortal."
      ],
      "metadata": {
        "nteract": {
          "transient": {
            "deleting": false
          }
        }
      }
    },
    {
      "cell_type": "markdown",
      "source": [
        "<center>Ejemplo de conjuntos</center>\n",
        "<center><img src=\"media/conjuntos.png\" width=50%/></center>\n"
      ],
      "metadata": {
        "nteract": {
          "transient": {
            "deleting": false
          }
        }
      }
    }
  ],
  "metadata": {
    "kernel_info": {
      "name": "python3"
    },
    "language_info": {
      "name": "python",
      "version": "3.7.3",
      "mimetype": "text/x-python",
      "codemirror_mode": {
        "name": "ipython",
        "version": 3
      },
      "pygments_lexer": "ipython3",
      "nbconvert_exporter": "python",
      "file_extension": ".py"
    },
    "kernelspec": {
      "argv": [
        "python",
        "-m",
        "ipykernel_launcher",
        "-f",
        "{connection_file}"
      ],
      "display_name": "Python 3",
      "language": "python",
      "name": "python3"
    },
    "nteract": {
      "version": "0.25.1"
    }
  },
  "nbformat": 4,
  "nbformat_minor": 0
}