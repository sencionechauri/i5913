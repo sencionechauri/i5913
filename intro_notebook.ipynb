{
  "cells": [
    {
      "cell_type": "markdown",
      "source": [
        "# <center>¿Qué es un notebook?</center>"
      ],
      "metadata": {
        "nteract": {
          "transient": {
            "deleting": false
          }
        }
      }
    },
    {
      "cell_type": "markdown",
      "source": [
        "Un notebook es un documento que te permite combinar secciones de texto, imagen, audio y vídeo con secciones de código interpretado. Por ejemplo si ejecutaramos la siguiente celda podríamos reproducir el vídeo de bienvenida."
      ],
      "metadata": {
        "nteract": {
          "transient": {
            "deleting": false
          }
        }
      }
    },
    {
      "cell_type": "code",
      "source": [
        "from IPython.display import HTML\n",
        "\n",
        "HTML(\"\"\"\n",
        "<center>\n",
        "<iframe src=\"https://drive.google.com/file/d/1vRbm-p0i7hRtsswbHm0Ck3BNnCXo2Iad/preview\" width=\"320\" height=\"240\"></iframe></center>\n",
        "<center><h3>Vídeo</center>\n",
        "\"\"\")"
      ],
      "outputs": [
        {
          "output_type": "execute_result",
          "execution_count": 1,
          "data": {
            "text/plain": "<IPython.core.display.HTML object>",
            "text/html": "\n<center>\n<iframe src=\"https://drive.google.com/file/d/1vRbm-p0i7hRtsswbHm0Ck3BNnCXo2Iad/preview\" width=\"320\" height=\"240\"></iframe></center>\n<center><h3>Vídeo</center>\n"
          },
          "metadata": {}
        }
      ],
      "execution_count": 1,
      "metadata": {
        "collapsed": true,
        "jupyter": {
          "source_hidden": false,
          "outputs_hidden": false
        },
        "nteract": {
          "transient": {
            "deleting": false
          }
        },
        "execution": {
          "iopub.status.busy": "2020-09-11T08:11:04.164Z",
          "iopub.execute_input": "2020-09-11T08:11:04.189Z",
          "iopub.status.idle": "2020-09-11T08:11:04.262Z",
          "shell.execute_reply": "2020-09-11T08:11:04.290Z"
        }
      }
    },
    {
      "cell_type": "markdown",
      "source": [
        "Este tipo de notebooks nos serán de utilidad a lo largo del curso porque podremos integrar tanto celdas con teoría y explicaciones como celdas con código y vídeos auxiliares en el aprendizaje."
      ],
      "metadata": {
        "nteract": {
          "transient": {
            "deleting": false
          }
        }
      }
    }
  ],
  "metadata": {
    "kernel_info": {
      "name": "python3"
    },
    "language_info": {
      "name": "python",
      "version": "3.7.3",
      "mimetype": "text/x-python",
      "codemirror_mode": {
        "name": "ipython",
        "version": 3
      },
      "pygments_lexer": "ipython3",
      "nbconvert_exporter": "python",
      "file_extension": ".py"
    },
    "kernelspec": {
      "argv": [
        "python",
        "-m",
        "ipykernel_launcher",
        "-f",
        "{connection_file}"
      ],
      "display_name": "Python 3",
      "language": "python",
      "name": "python3"
    },
    "nteract": {
      "version": "0.25.0"
    }
  },
  "nbformat": 4,
  "nbformat_minor": 0
}