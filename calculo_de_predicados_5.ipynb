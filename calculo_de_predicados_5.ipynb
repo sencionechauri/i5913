{
  "cells": [
    {
      "cell_type": "markdown",
      "source": [
        "# <center>Cálculo de Predicados</center>\n",
        "## <center>Parte 5</center>"
      ],
      "metadata": {
        "nteract": {
          "transient": {
            "deleting": false
          }
        }
      }
    },
    {
      "cell_type": "markdown",
      "source": [
        "El fin último de convertir enunciados en lenguaje natural a fórmulas bien formadas (FBFs) y posteriormente a formas clausales en formato CNF es comprobar la validez de las expresiones hechas con lenguaje natural; para ello nos auxiliaremos del proceso de unificación y las reglas de inferencia, en particular los silogismos.\n",
        "\n",
        "En este cuaderno revisaremos un ejemplo completo de validación para un grupo de expresiones en lenguaje natural. Comenzaremos con los enunciados en lenguaje natural, posteriormente escribiremos las fórmulas bien formadas equivalentes, realizaremos la conversión a formato CNF y finalmente comprobaremos la validez de los enunciados. "
      ],
      "metadata": {
        "nteract": {
          "transient": {
            "deleting": false
          }
        }
      }
    },
    {
      "cell_type": "markdown",
      "source": [
        "## Ejemplo\n",
        "\n",
        "Jack Posee un perro.\n",
        "\n",
        "Todo propietario de perro ama a los animales.\n",
        "\n",
        "Nadie que ama a los animales mata a un animal.\n",
        "\n",
        "Jack o la curiosidad mataron al gato llamado Tuna.\n",
        "\n",
        "¿La Curiosidad mató al gato?\n"
      ],
      "metadata": {
        "nteract": {
          "transient": {
            "deleting": false
          }
        }
      }
    },
    {
      "cell_type": "markdown",
      "source": [
        "### Primer Paso\n",
        "\n",
        "Expresar las frases como fórmulas bien formadas a excepción de la conclusión o pregunta.\n",
        "\n",
        "$$\n",
        "\\begin{align}\n",
        "& \\exists X (\\text{perro}(X) \\land \\text{ posee}(jack, X)) \\\\\n",
        "& \\forall X (\\exists Y (\\text{ perro}(Y) \\land \\text{ posee}(X,Y)) \\Rightarrow \\text{ ama_animales}(X)) \\\\\n",
        "& \\forall X (\\text{ama_animales}(X) \\Rightarrow (\\forall Y \\text{ animal}(Y) \\Rightarrow \\lnot \\text{mata}(X,Y))) \\\\\n",
        "& \\text{mata}(jack, tuna) \\lor \\text{mata}(curiosidad, tuna) \\\\\n",
        "& \\text{gato}(tuna) \\\\\n",
        "& \\forall X (\\text{gato}(X) \\Rightarrow \\text{animal}(X))\n",
        "\\end{align}\n",
        "$$"
      ],
      "metadata": {
        "nteract": {
          "transient": {
            "deleting": false
          }
        }
      }
    },
    {
      "cell_type": "markdown",
      "source": [
        "### Seundo Paso\n",
        "\n",
        "Convertir a forma clausal (CNF)."
      ],
      "metadata": {
        "nteract": {
          "transient": {
            "deleting": false
          }
        }
      }
    },
    {
      "cell_type": "markdown",
      "source": [
        "#### 1. Eliminar implicaciones\n",
        "\n",
        "$$\n",
        "\\begin{align}\n",
        "& \\exists X (\\text{perro}(X) \\land \\text{ posee}(jack, X)) \\\\\n",
        "& \\forall X (\\exists Y \\lnot (\\text{ perro}(Y) \\land \\text{ posee}(X,Y)) \\lor \\text{ ama_animales}(X)) \\\\\n",
        "& \\forall X (\\lnot \\text{ama_animales}(X) \\lor  (\\forall Y \\lnot \\text{ animal}(Y) \\lor \\lnot \\text{mata}(X,Y))) \\\\\n",
        "& \\text{mata}(jack, tuna) \\lor \\text{mata}(curiosidad, tuna) \\\\\n",
        "& \\text{gato}(tuna) \\\\\n",
        "& \\forall X (\\lnot \\text{gato}(X) \\lor \\text{animal}(X))\n",
        "\\end{align}\n",
        "$$"
      ],
      "metadata": {
        "nteract": {
          "transient": {
            "deleting": false
          }
        }
      }
    },
    {
      "cell_type": "markdown",
      "source": [
        "#### 2. Aplicar negaciones\n",
        "\n",
        "$$\n",
        "\\begin{align}\n",
        "& \\exists X (\\text{perro}(X) \\land \\text{ posee}(jack, X)) \\\\\n",
        "& \\forall X (\\exists Y (\\lnot \\text{ perro}(Y) \\lor \\lnot \\text{ posee}(X,Y)) \\lor \\text{ ama_animales}(X)) \\\\\n",
        "& \\forall X (\\lnot \\text{ama_animales}(X) \\lor  (\\forall Y \\lnot \\text{ animal}(Y) \\lor \\lnot \\text{mata}(X,Y))) \\\\\n",
        "& \\text{mata}(jack, tuna) \\lor \\text{mata}(curiosidad, tuna) \\\\\n",
        "& \\text{gato}(tuna) \\\\\n",
        "& \\forall X (\\lnot \\text{gato}(X) \\lor \\text{animal}(X))\n",
        "\\end{align}\n",
        "$$"
      ],
      "metadata": {
        "nteract": {
          "transient": {
            "deleting": false
          }
        }
      }
    },
    {
      "cell_type": "markdown",
      "source": [
        "#### 3. Eliminar cuantificadores existenciales\n",
        "\n",
        "Para la primer expresión que no tiene cuantificador universal en terminos del cual escribir la función de Skolem, colocaremos una variable $P$.\n",
        "$$\n",
        "\\begin{align}\n",
        "& \\text{perro}(P) \\land \\text{ posee}(jack, P) \\\\\n",
        "& \\forall X (\\lnot \\text{ perro}(S1(X)) \\lor \\lnot \\text{ posee}(X,S1(X)) \\lor \\text{ ama_animales}(X)) \\\\\n",
        "& \\forall X (\\lnot \\text{ama_animales}(X) \\lor  (\\forall Y \\lnot \\text{ animal}(Y) \\lor \\lnot \\text{mata}(X,Y))) \\\\\n",
        "& \\text{mata}(jack, tuna) \\lor \\text{mata}(curiosidad, tuna) \\\\\n",
        "& \\text{gato}(tuna) \\\\\n",
        "& \\forall X (\\lnot \\text{gato}(X) \\lor \\text{animal}(X))\n",
        "\\end{align}\n",
        "$$"
      ],
      "metadata": {
        "nteract": {
          "transient": {
            "deleting": false
          }
        }
      }
    },
    {
      "cell_type": "markdown",
      "source": [
        "#### 4. Renombrar variables\n",
        "\n",
        "$$\n",
        "\\begin{align}\n",
        "& \\text{perro}(P) \\land \\text{ posee}(jack, P) \\\\\n",
        "& \\forall X (\\lnot \\text{ perro}(S1(X)) \\lor \\lnot \\text{ posee}(X,S1(X)) \\lor \\text{ ama_animales}(X)) \\\\\n",
        "& \\forall Y (\\lnot \\text{ama_animales}(Y) \\lor  (\\forall Z \\lnot \\text{ animal}(Z) \\lor \\lnot \\text{mata}(Y,Z))) \\\\\n",
        "& \\text{mata}(jack, tuna) \\lor \\text{mata}(curiosidad, tuna) \\\\\n",
        "& \\text{gato}(tuna) \\\\\n",
        "& \\forall W (\\lnot \\text{gato}(W) \\lor \\text{animal}(W))\n",
        "\\end{align}\n",
        "$$"
      ],
      "metadata": {
        "nteract": {
          "transient": {
            "deleting": false
          }
        }
      }
    },
    {
      "cell_type": "markdown",
      "source": [
        "#### 5. Mover cuantificadores universales a la izquierda\n",
        "\n",
        "$$\n",
        "\\begin{align}\n",
        "& \\text{perro}(P) \\land \\text{ posee}(jack, P) \\\\\n",
        "& \\forall X (\\lnot \\text{ perro}(S1(X)) \\lor \\lnot \\text{ posee}(X,S1(X)) \\lor \\text{ ama_animales}(X)) \\\\\n",
        "& \\forall Y \\forall Z (\\lnot \\text{ama_animales}(Y) \\lor  (\\lnot \\text{ animal}(Z) \\lor \\lnot \\text{mata}(Y,Z))) \\\\\n",
        "& \\text{mata}(jack, tuna) \\lor \\text{mata}(curiosidad, tuna) \\\\\n",
        "& \\text{gato}(tuna) \\\\\n",
        "& \\forall W (\\lnot \\text{gato}(W) \\lor \\text{animal}(W))\n",
        "\\end{align}\n",
        "$$"
      ],
      "metadata": {
        "nteract": {
          "transient": {
            "deleting": false
          }
        }
      }
    },
    {
      "cell_type": "markdown",
      "source": [
        "#### 6. Distribuir disyunciones sobre conjunciones\n",
        "\n",
        "$$\n",
        "\\begin{align}\n",
        "& \\text{perro}(P) \\land \\text{ posee}(jack, P) \\\\\n",
        "& \\forall X (\\lnot \\text{ perro}(S1(X)) \\lor \\lnot \\text{ posee}(X,S1(X)) \\lor \\text{ ama_animales}(X)) \\\\\n",
        "& \\forall Y \\forall Z (\\lnot \\text{ama_animales}(Y) \\lor  (\\lnot \\text{ animal}(Z) \\lor \\lnot \\text{mata}(Y,Z))) \\\\\n",
        "& \\text{mata}(jack, tuna) \\lor \\text{mata}(curiosidad, tuna) \\\\\n",
        "& \\text{gato}(tuna) \\\\\n",
        "& \\forall W (\\lnot \\text{gato}(W) \\lor \\text{animal}(W))\n",
        "\\end{align}\n",
        "$$"
      ],
      "metadata": {
        "nteract": {
          "transient": {
            "deleting": false
          }
        }
      }
    },
    {
      "cell_type": "markdown",
      "source": [
        "#### 7. Eliminar conjunciones\n",
        "\n",
        "$$\n",
        "\\begin{align}\n",
        "& \\text{perro}(P) \\\\\n",
        "& \\text{posee}(jack, P) \\\\\n",
        "& \\forall X (\\lnot \\text{ perro}(S1(X)) \\lor \\lnot \\text{ posee}(X,S1(X)) \\lor \\text{ ama_animales}(X)) \\\\\n",
        "& \\forall Y \\forall Z (\\lnot \\text{ama_animales}(Y) \\lor  (\\lnot \\text{ animal}(Z) \\lor \\lnot \\text{mata}(Y,Z))) \\\\\n",
        "& \\text{mata}(jack, tuna) \\lor \\text{mata}(curiosidad, tuna) \\\\\n",
        "& \\text{gato}(tuna) \\\\\n",
        "& \\forall W (\\lnot \\text{gato}(W) \\lor \\text{animal}(W))\n",
        "\\end{align}\n",
        "$$"
      ],
      "metadata": {
        "nteract": {
          "transient": {
            "deleting": false
          }
        }
      }
    },
    {
      "cell_type": "markdown",
      "source": [
        "#### 8. Renombrar variables si es necesario\n",
        "\n",
        "$$\n",
        "\\begin{align}\n",
        "& \\text{perro}(P) \\\\\n",
        "& \\text{posee}(jack, P) \\\\\n",
        "& \\forall X (\\lnot \\text{ perro}(S1(X)) \\lor \\lnot \\text{ posee}(X,S1(X)) \\lor \\text{ ama_animales}(X)) \\\\\n",
        "& \\forall Y \\forall Z (\\lnot \\text{ama_animales}(Y) \\lor  (\\lnot \\text{ animal}(Z) \\lor \\lnot \\text{mata}(Y,Z))) \\\\\n",
        "& \\text{mata}(jack, tuna) \\lor \\text{mata}(curiosidad, tuna) \\\\\n",
        "& \\text{gato}(tuna) \\\\\n",
        "& \\forall W (\\lnot \\text{gato}(W) \\lor \\text{animal}(W))\n",
        "\\end{align}\n",
        "$$"
      ],
      "metadata": {
        "nteract": {
          "transient": {
            "deleting": false
          }
        }
      }
    },
    {
      "cell_type": "markdown",
      "source": [
        "#### 9. Eliminar cuantificadores universales\n",
        "\n",
        "$$\n",
        "\\begin{align}\n",
        "& \\text{perro}(P) \\\\\n",
        "& \\text{posee}(jack, P) \\\\\n",
        "& \\lnot \\text{ perro}(S1(X) \\lor \\lnot \\text{ posee}(X,S1(X)) \\lor \\text{ ama_animales}(X) \\\\\n",
        "& \\lnot \\text{ama_animales}(Y) \\lor  \\lnot \\text{ animal}(Z) \\lor \\lnot \\text{mata}(Y,Z) \\\\\n",
        "& \\text{mata}(jack, tuna) \\lor \\text{mata}(curiosidad, tuna) \\\\\n",
        "& \\text{gato}(tuna) \\\\\n",
        "& \\lnot \\text{gato}(W) \\lor \\text{animal}(W)\n",
        "\\end{align}\n",
        "$$"
      ],
      "metadata": {
        "nteract": {
          "transient": {
            "deleting": false
          }
        }
      }
    },
    {
      "cell_type": "markdown",
      "source": [
        "### Tercer Paso\n",
        "\n",
        "Aplicar el método de resolución. Para ello se deberá agregar la negación de la conclusión o pregunta a las premisas en formato CNF.\n",
        "\n",
        "1. $\\text{perro}(P)$\n",
        "2. $\\text{posee}(jack, P)$\n",
        "3. $\\lnot \\text{ perro}(S1(X) \\lor \\lnot \\text{ posee}(X,S1(X)) \\lor \\text{ ama_animales}(X)$\n",
        "4. $\\lnot \\text{ama_animales}(Y) \\lor  \\lnot \\text{ animal}(Z) \\lor \\lnot \\text{mata}(Y,Z)$\n",
        "5. $\\text{mata}(jack, tuna) \\lor \\text{mata}(curiosidad, tuna)$\n",
        "6. $\\text{gato}(tuna)$\n",
        "7. $\\lnot \\text{gato}(W) \\lor \\text{animal}(W)$\n",
        "8. $\\lnot \\text{mata}(curiosidad, tuna)$  *Esta es la negación de la pregunta en formato CNF*"
      ],
      "metadata": {
        "nteract": {
          "transient": {
            "deleting": false
          }
        }
      }
    },
    {
      "cell_type": "markdown",
      "source": [
        "Una vez que tenemos nuestras premisas numeradas, el proceso de validación consistirá en tratar de encontrar una contradicción de la forma $p \\land \\lnot p$ en dichas premisas. Para ello podremos generar nuevas premisas usando silogismos disyuntivos (S. D. en las reglas de inferencia) o silogismos hipotéticos (S. H. en las reglas de inferencia) y realizando las unificaciones correspondientes.\n",
        "\n",
        "El formato que se seguirá en el curso será: Escribir la nueva premisa generada seguida del número de las premisas a partir de las cuales se produjo, separadas por una coma, posteriormente el tipo de silogismo utilizado y en caso de ser necesaria, la unificación utilizada escrita entre llaves $\\{\\}$."
      ],
      "metadata": {
        "nteract": {
          "transient": {
            "deleting": false
          }
        }
      }
    },
    {
      "cell_type": "markdown",
      "source": [
        "1. $\\text{perro}(P)$\n",
        "2. $\\text{posee}(jack, P)$\n",
        "3. $\\lnot \\text{ perro}(S1(X) \\lor \\lnot \\text{ posee}(X,S1(X)) \\lor \\text{ ama_animales}(X)$\n",
        "4. $\\lnot \\text{ama_animales}(Y) \\lor  \\lnot \\text{ animal}(Z) \\lor \\lnot \\text{mata}(Y,Z)$\n",
        "5. $\\text{mata}(jack, tuna) \\lor \\text{mata}(curiosidad, tuna)$\n",
        "6. $\\text{gato}(tuna)$\n",
        "7. $\\lnot \\text{gato}(W) \\lor \\text{animal}(W)$\n",
        "8. $\\lnot \\text{mata}(curiosidad, tuna)$  *Esta es la negación de la pregunta en formato CNF*\n",
        "9. $\\text{mata}(jack, tuna)$ 5,8 S.D.\n",
        "10. $\\lnot \\text{ama_animales}(jack) \\lor \\lnot \\text{animal}(tuna)$ 4,9 S.D. $\\{Y/jack, Z/tuna\\}$\n",
        "11. $\\lnot \\text{ama_animales}(jack) \\lor \\lnot \\text{gato}(tuna)$ 10,7 S.H. $\\{W/tuna\\}$\n",
        "12. $\\lnot \\text{ama_animales}(jack)$ 11,6 S.D.\n",
        "13. $\\lnot \\text{perro}(S1(jack)) \\lor \\lnot \\text{posee}(jack, S1(jack))$ 3,12 S.D. $\\{X/jack\\}$\n",
        "14. $\\lnot \\text{posee}(jack, P)$ 13,1 S.D. $\\{S1(jack)/P\\}$\n",
        "15. $[]$ 2,14 Q.D.\n",
        "\n",
        "En la última premisa encontramos una contradicción por lo tanto Queda Demostrada la validez de nuestra expresión original, es decir, la curiosidad mató al gato."
      ],
      "metadata": {
        "nteract": {
          "transient": {
            "deleting": false
          }
        }
      }
    }
  ],
  "metadata": {
    "kernel_info": {
      "name": "python3"
    },
    "language_info": {
      "name": "python",
      "version": "3.7.3",
      "mimetype": "text/x-python",
      "codemirror_mode": {
        "name": "ipython",
        "version": 3
      },
      "pygments_lexer": "ipython3",
      "nbconvert_exporter": "python",
      "file_extension": ".py"
    },
    "kernelspec": {
      "argv": [
        "python",
        "-m",
        "ipykernel_launcher",
        "-f",
        "{connection_file}"
      ],
      "display_name": "Python 3",
      "language": "python",
      "name": "python3"
    },
    "nteract": {
      "version": "0.26.0"
    }
  },
  "nbformat": 4,
  "nbformat_minor": 0
}