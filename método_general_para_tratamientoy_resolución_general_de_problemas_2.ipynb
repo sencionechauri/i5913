{
  "cells": [
    {
      "cell_type": "markdown",
      "source": [
        "# <center>Método General para el Tratamiento y Resolución Automáticos de Problemas (parte 2)</center>"
      ],
      "metadata": {
        "nteract": {
          "transient": {
            "deleting": false
          }
        }
      }
    },
    {
      "cell_type": "markdown",
      "source": [
        "## <center>Tipos Habituales de Tareas por Sistema</center>\n",
        "\n",
        "La clasificación de tareas se puede realizar atendiendo a dos criterios principalmente:\n",
        "\n",
        "* Forma de actuación sobre el sistema.\n",
        "  * Problemas analíticos: Extraen conclusiones mediante observación de las características del sistema.\n",
        "  * Problemas sintéticos: Tienen como fin la generación del sistema o partes del mismo mediante síntesis de elementos.\n",
        "* Forma de obtener la solución.\n",
        "  * Problemas clasificativos.\n",
        "  * Problemas constructivos."
      ],
      "metadata": {
        "nteract": {
          "transient": {
            "deleting": false
          }
        }
      }
    },
    {
      "cell_type": "markdown",
      "source": [
        "<center><img src=\"media/sistema_simple.png\" width=50%/></center>\n",
        "\n",
        "<center><img src=\"media/sistema_dinamico.png\" width=50%/></center>\n",
        "\n",
        "<center><img src=\"media/sistema_de_recursos.png\" width=50%/></center>\n",
        "\n",
        "<center><img src=\"media/sistema_de_componentes.png\" width=50%/></center>\n",
        "\n",
        "<center><img src=\"media/sistema_de_componentes_dinamicos.png\" width=50%/></center>"
      ],
      "metadata": {
        "nteract": {
          "transient": {
            "deleting": false
          }
        }
      }
    },
    {
      "cell_type": "markdown",
      "source": [
        "## <center>Métodos de Resolución de Problemas</center>\n",
        "\n",
        "El concepto de los métodos se basa en dos ideas principales:\n",
        "\n",
        "* manejo de un nivel adicional de representación (el nivel de conocimiento).\n",
        "* especialización en clases de problemas.\n",
        "\n",
        "Un determinado problema se puede plantear a diversos niveles de abstracción, desde el más concreto, diagnóstico de la enfermedad de un determinado paciente, al más abstracto que se observa como un problema general. La idea de los métodos es situarse a un nivel de abstracción no demasiado concreto para que su potencial de aplicabilidad sea relativamente amplio, pero tampoco demasiado general como para que el uso de ciertas abstracciones haga que el coste de aplicación a un problema concreto sea demasiado elevado."
      ],
      "metadata": {
        "nteract": {
          "transient": {
            "deleting": false
          }
        }
      }
    },
    {
      "cell_type": "markdown",
      "source": [
        "## <center>Ejemplo: Posibles Niveles de Abstracción Para un Problema</center>\n",
        "<center><img src=\"media/nivel_abstraccion.png\" width=50%/></center>"
      ],
      "metadata": {
        "nteract": {
          "transient": {
            "deleting": false
          }
        }
      }
    },
    {
      "cell_type": "markdown",
      "source": [
        "## <center>Método de Resolución de Problemas: Definición</center>\n",
        "\n",
        "Un método de resolución de problemas expresa una forma de organizar y utilizar conocimiento del dominio para describir cómo las personas resuelven una clase de problemas."
      ],
      "metadata": {
        "nteract": {
          "transient": {
            "deleting": false
          }
        }
      }
    },
    {
      "cell_type": "markdown",
      "source": [
        "Los métodos de resolución de problemas hacen tratables ciertos problemas que de forma general con la algorítmica tradicional pueden ser computacionalmente intratables.\n",
        "\n",
        "Para resolver los problemas de forma eficiente los métodos hacen supuestos sobre:\n",
        "\n",
        "* El dominio.\n",
        "  * Existencia de un tipo de conocimiento.\n",
        "  * Propiedades de dicho conocimiento.\n",
        "* La tarea.\n",
        "\t"
      ],
      "metadata": {
        "nteract": {
          "transient": {
            "deleting": false
          }
        }
      }
    },
    {
      "cell_type": "markdown",
      "source": [
        "En general, los métodos deben ser correctos y completos. Un método es *correcto* si toda solución propuesta por el método es solución del problema definido por la tarea. Un método es *completo* si se cumple que, si la tarea tiene solución entonces el método debe poder encontrar una solución aunque no necesariamente la misma dado que, en general, puede haber múltiples soluciones."
      ],
      "metadata": {
        "nteract": {
          "transient": {
            "deleting": false
          }
        }
      }
    },
    {
      "cell_type": "markdown",
      "source": [
        "Los métodos de resolución de problemas identifican aspectos comunes en el razonamiento humano tales como los siguientes:\n",
        "\n",
        "* Simplificaciones de la realidad. Para razonar sobre una realidad que es compleja, normalmente, las personas realizamos simplificaciones que nos permiten reaccionar de una manera práctica.\n",
        "* Generación y prueba. La forma de llegar a las soluciones normalmente requiere un proceso de generación de hipótesis inicial y, después, verificación o prueba de dichas hipótesis que puede hacer reconsiderar pasos previos.\n",
        "* Jerarquías de niveles de abstracción. Durante el razonamiento, las personas pueden razonar en niveles altos de abstracción con grandes simplificaciones pero, cuando se requiere, es posible descender a los detalles mediante un proceso de focalización, accediendo a un mismo conocimiento pero expresado a más detalle.\n",
        "* Descomposición en subproblemas. La forma de abordar la resolución de problemas complejos puede simplificarse mediante descomposición en partes más sencillas.\n"
      ],
      "metadata": {
        "nteract": {
          "transient": {
            "deleting": false
          }
        }
      }
    },
    {
      "cell_type": "markdown",
      "source": [
        "## <center>Tipos de Métodos de Resolución de Problemas</center>\n",
        "\n",
        "<table>\n",
        "  <tr>\n",
        "    <th>Métodos</th>\n",
        "    <th>Tareas</th>\n",
        "  </tr>\n",
        "  <tr>\n",
        "    <td>Clasificación heurística dirigida por datos</td>\n",
        "    <td rowspan=\"3\">Clasificar</td>\n",
        "  </tr>\n",
        "  <tr>\n",
        "    <td>Clasificación heurística dirigida por objetivos</td>\n",
        "  </tr>\n",
        "  <tr>\n",
        "    <td>Clasificación jerárquica</td>\n",
        "  </tr>\n",
        "  <tr>\n",
        "    <td>Diagnóstico con modelo causal</td>\n",
        "    <td rowspan=\"2\">Diagnosticar</td>\n",
        "  </tr>\n",
        "  <tr>\n",
        "    <td>Diagnóstico basado en modelo de componentes</td>\n",
        "  </tr>\n",
        "  <tr>\n",
        "    <td>Predicción basada en modelo de ecuaciones</td>\n",
        "    <td rowspan=\"2\">Predecir</td>\n",
        "  </tr>\n",
        "  <tr>\n",
        "    <td>Predicción basada en modelo de componentes</td>\n",
        "  </tr>\n",
        "  <tr>\n",
        "    <td>Proponer e intercambiar</td>\n",
        "    <td>Asignar</td>\n",
        "  </tr>\n",
        "  <tr>\n",
        "    <td>Diseño paramaétrico</td>\n",
        "    <td>Configurar</td>\n",
        "  </tr>\n",
        "</table>\n",
        "  "
      ],
      "metadata": {
        "nteract": {
          "transient": {
            "deleting": false
          }
        }
      }
    },
    {
      "cell_type": "markdown",
      "source": [
        "### Referencias\n",
        "\n",
        "Molina González, M., 2006. Métodos De Resolución De Problemas. \\[Madrid\\]: Fundación General de la U.P.M."
      ],
      "metadata": {
        "nteract": {
          "transient": {
            "deleting": false
          }
        }
      }
    }
  ],
  "metadata": {
    "kernel_info": {
      "name": "python3"
    },
    "language_info": {
      "name": "python",
      "version": "3.7.3",
      "mimetype": "text/x-python",
      "codemirror_mode": {
        "name": "ipython",
        "version": 3
      },
      "pygments_lexer": "ipython3",
      "nbconvert_exporter": "python",
      "file_extension": ".py"
    },
    "kernelspec": {
      "argv": [
        "python",
        "-m",
        "ipykernel_launcher",
        "-f",
        "{connection_file}"
      ],
      "display_name": "Python 3",
      "language": "python",
      "name": "python3"
    },
    "nteract": {
      "version": "0.25.1"
    }
  },
  "nbformat": 4,
  "nbformat_minor": 0
}