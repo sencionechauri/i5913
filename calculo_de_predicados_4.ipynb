{
  "cells": [
    {
      "cell_type": "markdown",
      "source": [
        "# <center>Cálculo de Predicados</center>\n",
        "## <center>Parte 4</center>"
      ],
      "metadata": {
        "nteract": {
          "transient": {
            "deleting": false
          }
        }
      }
    },
    {
      "cell_type": "markdown",
      "source": [
        "## Algoritmo para convertir axiomas a CNF\n",
        "\n",
        "1. Eliminar implicaciones.\n",
        "2. Aplicar negaciones a los fórmulas atómicas.\n",
        "3. Eliminar cuantificadores existenciales.\n",
        "4. Renombrar variables si es necesario.\n",
        "5. Mover cuantificadores universales a la izquierda.\n",
        "6. Distribuir disyunciones sobre conjunciones.\n",
        "7. Eliminar conjunciones.\n",
        "8. Renombrar variables si es necesario.\n",
        "9. Eliminar los cuantificadores universales."
      ],
      "metadata": {
        "nteract": {
          "transient": {
            "deleting": false
          }
        }
      }
    },
    {
      "cell_type": "markdown",
      "source": [
        "### Ejemplo\n",
        "\n",
        "Covertir a formato CNF la siguiente frase.\n",
        "\n",
        "*Cada ciudad tiene un perrero que ha sido mordido por todos los perros de la ciudad*."
      ],
      "metadata": {
        "nteract": {
          "transient": {
            "deleting": false
          }
        }
      }
    },
    {
      "cell_type": "markdown",
      "source": [
        "Primero debemos convertir las expresiones en lenguaje natural a Fórmulas Bien Formadas.\n",
        "\n",
        "$$\\forall X (\\text{ ciudad} (X) \\Rightarrow \\exists Y (\\text{ perrero}(X,Y) \\land \\forall Z (( \\text{ perro}(Z) \\land \\text{ vive_en}(X,Z)) \\Rightarrow \\text{ mordido}(X,Z))))$$"
      ],
      "metadata": {
        "nteract": {
          "transient": {
            "deleting": false
          }
        }
      }
    },
    {
      "cell_type": "markdown",
      "source": [
        "Una vez que tenemos la expresión como fórmulas bien formadas, podemos realizar el algoritmo de los nueve pasos para convertir a forma clausal o CNF.\n",
        "\n",
        "Comenzaremos eliminando implicaciones para lo cual utilizaremos una implicación material por cada vez que encontremos el símbolo $\\Rightarrow$\n",
        "\n",
        "Implicación Material:\n",
        "\n",
        "$(p \\rightarrow q) \\equiv (\\lnot p \\lor q)$"
      ],
      "metadata": {
        "nteract": {
          "transient": {
            "deleting": false
          }
        }
      }
    },
    {
      "cell_type": "markdown",
      "source": [
        "### 1. Eliminar implicaciones\n",
        "\n",
        "Antes:\n",
        "\n",
        "$$\\forall X (\\text{ ciudad} (X) \\Rightarrow \\exists Y (\\text{ perrero}(X,Y) \\land \\forall Z (( \\text{ perro}(Z) \\land \\text{ vive_en}(X,Z)) \\Rightarrow \\text{ mordido}(Y,Z))))$$\n",
        "\n",
        "Después:\n",
        "\n",
        "$$\\forall X (\\lnot \\text{ ciudad} (X) \\lor \\exists Y (\\text{ perrero}(X,Y) \\land \\forall Z (\\lnot( \\text{ perro}(Z) \\land \\text{ vive_en}(X,Z)) \\lor \\text{ mordido}(Y,Z))))$$"
      ],
      "metadata": {
        "nteract": {
          "transient": {
            "deleting": false
          }
        }
      }
    },
    {
      "cell_type": "markdown",
      "source": [
        "### 2. Aplicar negaciones a las fórmulas atómicas\n",
        "\n",
        "Para este paso aplicaremos todas las negaciones correspondientes, para ellos si un símbolo $\\exists$ está negado cambiará a $\\forall$ y viceversa. Con los símbolos $\\land$ y $\\lor$ sucederá lo mismo y cambiarán por el contrario, es decir $\\land$ cambia a $\\lor$ y viceversa.\n",
        "\n",
        "Antes:\n",
        "\n",
        "$$\\forall X (\\lnot \\text{ ciudad} (X) \\lor \\exists Y (\\text{ perrero}(X,Y) \\land \\forall Z (\\lnot( \\text{ perro}(Z) \\land \\text{ vive_en}(X,Z)) \\lor \\text{ mordido}(Y,Z))))$$\n",
        "\n",
        "Después:\n",
        "\n",
        "$$\\forall X (\\lnot \\text{ ciudad} (X) \\lor \\exists Y (\\text{ perrero}(X,Y) \\land \\forall Z (\\lnot \\text{ perro}(Z) \\lor \\lnot \\text{ vive_en}(X,Z) \\lor \\text{ mordido}(Y,Z))))$$"
      ],
      "metadata": {
        "nteract": {
          "transient": {
            "deleting": false
          }
        }
      }
    },
    {
      "cell_type": "markdown",
      "source": [
        "### 3. Eliminar cuantificadores existenciales: Skolemnizar\n",
        "\n",
        "Como resultado se eliminarán todos los símbolos $\\exists$ y en lugar de las variables asociadas a esos símbolos habrá una función de Skolem con la forma $\\text{S}i(\\text{Variable_ligada})$. En donde la variable ligada es la indicada por el cuantificador universal $\\forall$ que contenía al existencial.\n",
        "\n",
        "Antes:\n",
        "\n",
        "\n",
        "$$\\forall X (\\lnot \\text{ ciudad} (X) \\lor \\exists Y (\\text{ perrero}(X,Y) \\land \\forall Z (\\lnot \\text{ perro}(Z) \\lor \\lnot \\text{ vive_en}(X,Z) \\lor \\text{ mordido}(Y,Z))))$$\n",
        "\n",
        "Después:\n",
        "\n",
        "$$\\forall X (\\lnot \\text{ ciudad} (X) \\lor (\\text{ perrero}(X,S1(X)) \\land \\forall Z (\\lnot \\text{ perro}(Z) \\lor \\lnot \\text{ vive_en}(X,Z) \\lor \\text{ mordido}(S1(X),Z))))$$"
      ],
      "metadata": {
        "nteract": {
          "transient": {
            "deleting": false
          }
        }
      }
    },
    {
      "cell_type": "markdown",
      "source": [
        "### 4. Renombrar variables si es necesario\n",
        "\n",
        "En este paso cambiaremos las variables de forma tal que para cada cuantificador existencial $\\forall$ haya variables únicas.\n",
        "\n",
        "Antes:\n",
        "\n",
        "$$\\forall X (\\lnot \\text{ ciudad} (X) \\lor (\\text{ perrero}(X,S1(X)) \\land \\forall Z (\\lnot \\text{ perro}(Z) \\lor \\lnot \\text{ vive_en}(X,Z) \\lor \\text{ mordido}(S1(X),Z))))$$\n",
        "\n",
        "Después:\n",
        "\n",
        "$$\\forall X (\\lnot \\text{ ciudad} (X) \\lor (\\text{ perrero}(X,S1(X)) \\land \\forall Z (\\lnot \\text{ perro}(Z) \\lor \\lnot \\text{ vive_en}(X,Z) \\lor \\text{ mordido}(S1(X),Z))))$$"
      ],
      "metadata": {
        "nteract": {
          "transient": {
            "deleting": false
          }
        }
      }
    },
    {
      "cell_type": "markdown",
      "source": [
        "### 5. Mover cuantificadores universales a la izquierda\n",
        "\n",
        "Antes:\n",
        "\n",
        "$$\\forall X (\\lnot \\text{ ciudad} (X) \\lor (\\text{ perrero}(X,S1(X)) \\land \\forall Z (\\lnot \\text{ perro}(Z) \\lor \\lnot \\text{ vive_en}(X,Z) \\lor \\text{ mordido}(S1(X),Z))))$$\n",
        "\n",
        "Después:\n",
        "\n",
        "$$\\forall X \\forall Z (\\lnot \\text{ ciudad} (X) \\lor (\\text{ perrero}(X,S1(X)) \\land (\\lnot \\text{ perro}(Z) \\lor \\lnot \\text{ vive_en}(X,Z) \\lor \\text{ mordido}(S1(X),Z))))$$"
      ],
      "metadata": {
        "nteract": {
          "transient": {
            "deleting": false
          }
        }
      }
    },
    {
      "cell_type": "markdown",
      "source": [
        "### 6. Distribuir disyunciones sobre conjunciones\n",
        "\n",
        "En este paso deberemos utilizar la regla de inferencia distributiva:\n",
        "\n",
        "$[p \\lor (q \\land r)] \\equiv [(p \\lor q) \\land (p \\lor r)]$\n",
        "\n",
        "El resultado se verá como conjunciones de disyunciones.\n",
        "\n",
        "Antes:\n",
        "\n",
        "$$\\forall X \\forall Z (\\lnot \\text{ ciudad} (X) \\lor (\\text{ perrero}(X,S1(X)) \\land (\\lnot \\text{ perro}(Z) \\lor \\lnot \\text{ vive_en}(X,Z) \\lor \\text{ mordido}(S1(X),Z))))$$\n",
        "\n",
        "Después:\n",
        "\n",
        "$$\n",
        "\\begin{align}\n",
        "\\forall X \\forall Z (&(\\lnot \\text{ ciudad} (X) \\lor \\text{ perrero}(X,S1(X))) \\\\\n",
        "\\land & (\\lnot \\text{ ciudad}(X) \\lor (\\lnot \\text{ perro}(Z) \\lor \\lnot \\text{ vive_en}(X,Z) \\lor \\text{ mordido}(S1(X),Z))))\n",
        "\\end{align}\n",
        "$$"
      ],
      "metadata": {
        "nteract": {
          "transient": {
            "deleting": false
          }
        }
      }
    },
    {
      "cell_type": "markdown",
      "source": [
        "### 7. Eliminar conjunciones\n",
        "\n",
        "En este paso separaremos las expresiones a partir de cada conjunción y las reescribiremos con su cuantificador universal correspondiente.\n",
        "\n",
        "Antes:\n",
        "\n",
        "$$\n",
        "\\begin{align}\n",
        "\\forall X \\forall Z (&(\\lnot \\text{ ciudad} (X) \\lor \\text{ perrero}(X,S1(X))) \\\\\n",
        "\\land & (\\lnot \\text{ ciudad}(X) \\lor (\\lnot \\text{ perro}(Z) \\lor \\lnot \\text{ vive_en}(X,Z) \\lor \\text{ mordido}(S1(X),Z))))\n",
        "\\end{align}\n",
        "$$\n",
        "\n",
        "Después: \n",
        "\n",
        "$$\n",
        "\\begin{align}\n",
        "\\forall X &(\\lnot \\text{ ciudad} (X) \\lor \\text{ perrero}(X,S1(X))) \\\\\n",
        "\\forall X \\forall Z & (\\lnot \\text{ ciudad}(X) \\lor (\\lnot \\text{ perro}(Z) \\lor \\lnot \\text{ vive_en}(X,Z) \\lor \\text{ mordido}(S1(X),Z)))\n",
        "\\end{align}\n",
        "$$"
      ],
      "metadata": {
        "nteract": {
          "transient": {
            "deleting": false
          }
        }
      }
    },
    {
      "cell_type": "markdown",
      "source": [
        "### 8. Renombrar variables si es necesario\n",
        "\n",
        "Renombraremos las variables de cada cuantificador universal de forma tal que no existan repetidas.\n",
        "\n",
        "Antes:\n",
        "\n",
        "$$\n",
        "\\begin{align}\n",
        "\\forall X &(\\lnot \\text{ ciudad} (X) \\lor \\text{ perrero}(X,S1(X))) \\\\\n",
        "\\forall X \\forall Z & (\\lnot \\text{ ciudad}(X) \\lor (\\lnot \\text{ perro}(Z) \\lor \\lnot \\text{ vive_en}(X,Z) \\lor \\text{ mordido}(S1(X),Z)))\n",
        "\\end{align}\n",
        "$$\n",
        "\n",
        "Después: \n",
        "\n",
        "$$\n",
        "\\begin{align}\n",
        "\\forall X &(\\lnot \\text{ ciudad} (X) \\lor \\text{ perrero}(X,S1(X))) \\\\\n",
        "\\forall Y \\forall Z & (\\lnot \\text{ ciudad}(Y) \\lor (\\lnot \\text{ perro}(Z) \\lor \\lnot \\text{ vive_en}(Y,Z) \\lor \\text{ mordido}(S1(Y),Z)))\n",
        "\\end{align}\n",
        "$$"
      ],
      "metadata": {
        "nteract": {
          "transient": {
            "deleting": false
          }
        }
      }
    },
    {
      "cell_type": "markdown",
      "source": [
        "### 9. Eliminar cuantificadores universales\n",
        "\n",
        "Antes: \n",
        "\n",
        "$$\n",
        "\\begin{align}\n",
        "\\forall X &(\\lnot \\text{ ciudad} (X) \\lor \\text{ perrero}(X,S1(X))) \\\\\n",
        "\\forall Y \\forall Z & (\\lnot \\text{ ciudad}(Y) \\lor (\\lnot \\text{ perro}(Z) \\lor \\lnot \\text{ vive_en}(Y,Z) \\lor \\text{ mordido}(S1(Y),Z)))\n",
        "\\end{align}\n",
        "$$\n",
        "\n",
        "Después: \n",
        "\n",
        "$$\n",
        "\\begin{align}\n",
        "&\\lnot \\text{ ciudad} (X) \\lor \\text{ perrero}(X,S1(X)) \\\\\n",
        "&\\lnot \\text{ ciudad}(Y) \\lor \\lnot \\text{ perro}(Z) \\lor \\lnot \\text{ vive_en}(Y,Z) \\lor \\text{ mordido}(S1(Y),Z)\n",
        "\\end{align}\n",
        "$$\n"
      ],
      "metadata": {
        "nteract": {
          "transient": {
            "deleting": false
          }
        }
      }
    }
  ],
  "metadata": {
    "kernel_info": {
      "name": "python3"
    },
    "language_info": {
      "name": "python",
      "version": "3.7.3",
      "mimetype": "text/x-python",
      "codemirror_mode": {
        "name": "ipython",
        "version": 3
      },
      "pygments_lexer": "ipython3",
      "nbconvert_exporter": "python",
      "file_extension": ".py"
    },
    "kernelspec": {
      "argv": [
        "python",
        "-m",
        "ipykernel_launcher",
        "-f",
        "{connection_file}"
      ],
      "display_name": "Python 3",
      "language": "python",
      "name": "python3"
    },
    "nteract": {
      "version": "0.25.1"
    }
  },
  "nbformat": 4,
  "nbformat_minor": 0
}